{
 "cells": [
  {
   "cell_type": "markdown",
   "metadata": {},
   "source": [
    "# Letters and Numbers"
   ]
  },
  {
   "cell_type": "code",
   "execution_count": 1,
   "metadata": {
    "collapsed": true
   },
   "outputs": [],
   "source": [
    "import Data.List\n",
    "import Data.Char\n",
    "import Data.Function\n",
    "import Data.Maybe\n",
    "import qualified Data.IntMap as IntMap"
   ]
  },
  {
   "cell_type": "code",
   "execution_count": 2,
   "metadata": {
    "collapsed": false
   },
   "outputs": [],
   "source": [
    "type State = (IntMap.IntMap (Int, Int), Int)\n",
    "\n",
    "computeState :: State -> (Int, Char) -> State\n",
    "computeState (oldMap, oldLevel) (index, c) =\n",
    "    let\n",
    "        newLevel = (if isDigit c then succ else pred) oldLevel\n",
    "        rangeStart = fromMaybe index $ fmap fst $ IntMap.lookup newLevel oldMap\n",
    "        newMap = IntMap.insert newLevel (rangeStart, index) oldMap\n",
    "    in\n",
    "        (newMap, newLevel)"
   ]
  },
  {
   "cell_type": "code",
   "execution_count": 3,
   "metadata": {
    "collapsed": false
   },
   "outputs": [],
   "source": [
    "longestSubarray :: String -> String\n",
    "longestSubarray s =\n",
    "    let\n",
    "        levelMap = fst $ foldl' computeState (IntMap.singleton 0 (0, 0), 0) (zip [1..] s)\n",
    "        (left, right) = minimumBy (compare `on` uncurry (-)) (IntMap.elems levelMap)\n",
    "    in\n",
    "        take (right - left) $ drop left s"
   ]
  },
  {
   "cell_type": "code",
   "execution_count": 4,
   "metadata": {
    "collapsed": false
   },
   "outputs": [
    {
     "data": {
      "text/plain": [
       "\"A7BB88\""
      ]
     },
     "metadata": {},
     "output_type": "display_data"
    }
   ],
   "source": [
    "longestSubarray \"AAA7BB88\""
   ]
  },
  {
   "cell_type": "code",
   "execution_count": 5,
   "metadata": {
    "collapsed": true
   },
   "outputs": [],
   "source": [
    "import Test.QuickCheck"
   ]
  },
  {
   "cell_type": "code",
   "execution_count": 6,
   "metadata": {
    "collapsed": false
   },
   "outputs": [],
   "source": [
    "testCountDigitsLetters :: String -> Bool\n",
    "testCountDigitsLetters s =\n",
    "    (==) 0 $ sum $ map (\\c -> if isDigit c then 1 else -1) (longestSubarray s)"
   ]
  },
  {
   "cell_type": "code",
   "execution_count": 7,
   "metadata": {
    "collapsed": false
   },
   "outputs": [
    {
     "data": {
      "text/plain": [
       "+++ OK, passed 100 tests."
      ]
     },
     "metadata": {},
     "output_type": "display_data"
    }
   ],
   "source": [
    "quickCheck testCountDigitsLetters"
   ]
  },
  {
   "cell_type": "code",
   "execution_count": 8,
   "metadata": {
    "collapsed": false
   },
   "outputs": [],
   "source": [
    "testSubstringProperty :: String -> Bool\n",
    "testSubstringProperty s =\n",
    "    isInfixOf (longestSubarray s) s"
   ]
  },
  {
   "cell_type": "code",
   "execution_count": 9,
   "metadata": {
    "collapsed": false
   },
   "outputs": [
    {
     "data": {
      "text/plain": [
       "+++ OK, passed 100 tests."
      ]
     },
     "metadata": {},
     "output_type": "display_data"
    }
   ],
   "source": [
    "quickCheck testSubstringProperty"
   ]
  }
 ],
 "metadata": {
  "kernelspec": {
   "display_name": "Haskell",
   "language": "haskell",
   "name": "haskell"
  },
  "language_info": {
   "codemirror_mode": "ihaskell",
   "file_extension": ".hs",
   "name": "haskell",
   "version": "7.10.2"
  }
 },
 "nbformat": 4,
 "nbformat_minor": 0
}
