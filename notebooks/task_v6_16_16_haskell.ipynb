{
 "cells": [
  {
   "cell_type": "markdown",
   "metadata": {},
   "source": [
    "# Sub Sort"
   ]
  },
  {
   "cell_type": "code",
   "execution_count": 1,
   "metadata": {
    "collapsed": true
   },
   "outputs": [],
   "source": [
    "import Data.List\n",
    "import Data.Function\n",
    "import Data.Maybe"
   ]
  },
  {
   "cell_type": "code",
   "execution_count": 2,
   "metadata": {
    "collapsed": true
   },
   "outputs": [],
   "source": [
    "subSort :: (Ord a) => [a] -> (Int, Int)\n",
    "subSort xs =\n",
    "    let\n",
    "        indexedList :: (Ord a) => [a] -> [(Bool, (a, Int))]\n",
    "        indexedList xs = \n",
    "            let\n",
    "                computeState :: (Ord a) => Maybe (Bool, (a, Int)) -> (a, Int) -> Maybe (Bool, (a, Int))\n",
    "                computeState Nothing (x, i) = Just (False, (x, i))\n",
    "                computeState (Just (f, (x', i'))) (x, i) = Just (x' <= x, (x, i)) \n",
    "            in\n",
    "                catMaybes $ scanl computeState Nothing $ zip xs [0..]\n",
    "    \n",
    "        sortedGroups = map (map snd) $ groupBy ((/=) `on` fst) $ indexedList xs\n",
    "    \n",
    "        -- Think about special cases, i.e. empty list\n",
    "\n",
    "        minValue = minimum $ map head $ tail sortedGroups\n",
    "        maxValue = maximum $ map last $ init sortedGroups\n",
    "\n",
    "        leftIndex = snd $ head $ dropWhile (< minValue) $ head sortedGroups\n",
    "        rightIndex = snd $ last $ takeWhile (< maxValue) $ last sortedGroups\n",
    "\n",
    "    in (leftIndex, rightIndex)"
   ]
  },
  {
   "cell_type": "code",
   "execution_count": 3,
   "metadata": {
    "collapsed": false
   },
   "outputs": [
    {
     "data": {
      "text/plain": [
       "(3,9)"
      ]
     },
     "metadata": {},
     "output_type": "display_data"
    }
   ],
   "source": [
    "subSort [1, 2, 4, 7, 10, 11, 7, 12, 6, 7, 16, 18, 19]"
   ]
  }
 ],
 "metadata": {
  "kernelspec": {
   "display_name": "Haskell",
   "language": "haskell",
   "name": "haskell"
  },
  "language_info": {
   "codemirror_mode": "ihaskell",
   "file_extension": ".hs",
   "name": "haskell",
   "version": "7.10.2"
  }
 },
 "nbformat": 4,
 "nbformat_minor": 0
}
