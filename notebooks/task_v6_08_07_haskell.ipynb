{
 "cells": [
  {
   "cell_type": "markdown",
   "metadata": {},
   "source": [
    "# Permutations without Dups"
   ]
  },
  {
   "cell_type": "code",
   "execution_count": 1,
   "metadata": {
    "collapsed": true
   },
   "outputs": [],
   "source": [
    "import Data.List"
   ]
  },
  {
   "cell_type": "code",
   "execution_count": 2,
   "metadata": {
    "collapsed": false
   },
   "outputs": [],
   "source": [
    "permutationsWithoutDups :: String -> [String]\n",
    "permutationsWithoutDups [] = [\"\"]\n",
    "permutationsWithoutDups [x] = [ [x] ]\n",
    "permutationsWithoutDups (x:xs) =\n",
    "    let\n",
    "        wrap char left right = intercalate [char] [left, right]\n",
    "        interweave char permutation = zipWith (wrap char) (inits permutation) (tails permutation)\n",
    "    in\n",
    "        concatMap (interweave x) $ permutationsWithoutDups xs"
   ]
  },
  {
   "cell_type": "code",
   "execution_count": 3,
   "metadata": {
    "collapsed": false
   },
   "outputs": [
    {
     "data": {
      "text/plain": [
       "[\"abc\",\"bac\",\"bca\",\"acb\",\"cab\",\"cba\"]"
      ]
     },
     "metadata": {},
     "output_type": "display_data"
    }
   ],
   "source": [
    "permutationsWithoutDups \"abc\""
   ]
  },
  {
   "cell_type": "code",
   "execution_count": 4,
   "metadata": {
    "collapsed": false
   },
   "outputs": [
    {
     "data": {
      "text/plain": [
       "[\"abc\",\"bac\",\"cba\",\"bca\",\"cab\",\"acb\"]"
      ]
     },
     "metadata": {},
     "output_type": "display_data"
    }
   ],
   "source": [
    "permutations \"abc\""
   ]
  },
  {
   "cell_type": "code",
   "execution_count": 5,
   "metadata": {
    "collapsed": true
   },
   "outputs": [],
   "source": [
    "import Test.QuickCheck"
   ]
  },
  {
   "cell_type": "markdown",
   "metadata": {},
   "source": [
    "Test against the reference implementation:"
   ]
  },
  {
   "cell_type": "code",
   "execution_count": 6,
   "metadata": {
    "collapsed": false
   },
   "outputs": [],
   "source": [
    "testPermutations :: String -> Bool\n",
    "testPermutations s =\n",
    "    sort (permutations s) == sort (permutationsWithoutDups s)"
   ]
  },
  {
   "cell_type": "code",
   "execution_count": 7,
   "metadata": {
    "collapsed": false
   },
   "outputs": [
    {
     "data": {
      "text/plain": [
       "+++ OK, passed 100 tests."
      ]
     },
     "metadata": {},
     "output_type": "display_data"
    }
   ],
   "source": [
    "quickCheckWith stdArgs { maxSize = 10 } testPermutations"
   ]
  },
  {
   "cell_type": "markdown",
   "metadata": {},
   "source": [
    "Test problem invariants:"
   ]
  },
  {
   "cell_type": "code",
   "execution_count": 8,
   "metadata": {
    "collapsed": true
   },
   "outputs": [],
   "source": [
    "import Data.Set"
   ]
  },
  {
   "cell_type": "code",
   "execution_count": 9,
   "metadata": {
    "collapsed": false
   },
   "outputs": [],
   "source": [
    "testPermutationsInvariants :: String -> Bool\n",
    "testPermutationsInvariants s =\n",
    "    let\n",
    "        resultList = permutationsWithoutDups s\n",
    "        resultSet = Data.Set.fromList resultList\n",
    "\n",
    "        expectedLength = length resultList == product [1..length s]\n",
    "        expectedChars = all (\\x -> sort x == sort s) resultList\n",
    "        -- noDuplicates = length resultList == length resultSet\n",
    "    in\n",
    "        expectedChars && expectedLength -- && noDuplicates"
   ]
  },
  {
   "cell_type": "code",
   "execution_count": 10,
   "metadata": {
    "collapsed": false
   },
   "outputs": [
    {
     "data": {
      "text/plain": [
       "+++ OK, passed 100 tests."
      ]
     },
     "metadata": {},
     "output_type": "display_data"
    }
   ],
   "source": [
    "quickCheckWith stdArgs { maxSize = 10 } testPermutationsInvariants"
   ]
  },
  {
   "cell_type": "markdown",
   "metadata": {},
   "source": [
    "We need to write a custom string generator that generates strings of unique characters as defined in problem description, otherwise the test for the `noDuplicates` invariant will fail."
   ]
  }
 ],
 "metadata": {
  "kernelspec": {
   "display_name": "Haskell",
   "language": "haskell",
   "name": "haskell"
  },
  "language_info": {
   "codemirror_mode": "ihaskell",
   "file_extension": ".hs",
   "name": "haskell",
   "version": "7.10.2"
  }
 },
 "nbformat": 4,
 "nbformat_minor": 0
}
