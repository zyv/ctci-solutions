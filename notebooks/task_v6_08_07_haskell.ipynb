{
 "cells": [
  {
   "cell_type": "code",
   "execution_count": 1,
   "metadata": {
    "collapsed": true
   },
   "outputs": [],
   "source": [
    "import Data.List"
   ]
  },
  {
   "cell_type": "code",
   "execution_count": 2,
   "metadata": {
    "collapsed": false
   },
   "outputs": [],
   "source": [
    "permutationsWithoutDups :: String -> [String]\n",
    "permutationsWithoutDups [] = []\n",
    "permutationsWithoutDups [x] = [ [x] ]\n",
    "permutationsWithoutDups (x:xs) =\n",
    "    let\n",
    "        wrap char left right = intercalate [char] [left, right]\n",
    "        interweave char permutation = zipWith (wrap char) (inits permutation) (tails permutation)\n",
    "    in\n",
    "        concatMap (interweave x) $ permutationsWithoutDups xs"
   ]
  },
  {
   "cell_type": "code",
   "execution_count": 3,
   "metadata": {
    "collapsed": false
   },
   "outputs": [
    {
     "data": {
      "text/plain": [
       "[\"abc\",\"bac\",\"bca\",\"acb\",\"cab\",\"cba\"]"
      ]
     },
     "metadata": {},
     "output_type": "display_data"
    }
   ],
   "source": [
    "permutationsWithoutDups \"abc\""
   ]
  },
  {
   "cell_type": "code",
   "execution_count": 4,
   "metadata": {
    "collapsed": false
   },
   "outputs": [
    {
     "data": {
      "text/plain": [
       "[\"abc\",\"bac\",\"cba\",\"bca\",\"cab\",\"acb\"]"
      ]
     },
     "metadata": {},
     "output_type": "display_data"
    }
   ],
   "source": [
    "permutations \"abc\""
   ]
  }
 ],
 "metadata": {
  "kernelspec": {
   "display_name": "Haskell",
   "language": "haskell",
   "name": "haskell"
  },
  "language_info": {
   "codemirror_mode": "ihaskell",
   "file_extension": ".hs",
   "name": "haskell",
   "version": "7.10.2"
  }
 },
 "nbformat": 4,
 "nbformat_minor": 0
}
