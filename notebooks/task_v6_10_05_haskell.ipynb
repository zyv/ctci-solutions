{
 "cells": [
  {
   "cell_type": "markdown",
   "metadata": {},
   "source": [
    "# Sparse Search"
   ]
  },
  {
   "cell_type": "code",
   "execution_count": 1,
   "metadata": {
    "collapsed": true
   },
   "outputs": [],
   "source": [
    "import Data.Array"
   ]
  },
  {
   "cell_type": "code",
   "execution_count": 2,
   "metadata": {
    "collapsed": true
   },
   "outputs": [],
   "source": [
    "import qualified Data.Sequence as S"
   ]
  },
  {
   "cell_type": "code",
   "execution_count": 3,
   "metadata": {
    "collapsed": true
   },
   "outputs": [],
   "source": [
    "{-# LANGUAGE ScopedTypeVariables #-}"
   ]
  },
  {
   "cell_type": "code",
   "execution_count": 4,
   "metadata": {
    "collapsed": false
   },
   "outputs": [],
   "source": [
    "type StringArray i = Array i String\n",
    "\n",
    "type Interval i = (i, i)\n",
    "type IntervalQueue i = S.Seq (Interval i)\n",
    "\n",
    "sparseSearch :: forall i. (Integral i, Ix i, Show i) => String -> StringArray i -> Maybe i\n",
    "sparseSearch x xs =\n",
    "    let\n",
    "        stopWord = \"\"\n",
    "\n",
    "        popInterval :: IntervalQueue i -> (Interval i, IntervalQueue i)\n",
    "        popInterval intervals = (S.index intervals 0, S.drop 1 intervals)\n",
    "\n",
    "        modifiedBinary :: IntervalQueue i -> Maybe i\n",
    "        modifiedBinary intervals\n",
    "            | left > right =\n",
    "                if S.null intervals' then\n",
    "                    Nothing\n",
    "                else\n",
    "                    modifiedBinary intervals'\n",
    "            | otherwise =\n",
    "                if x' == stopWord && x /= stopWord then\n",
    "                    modifiedBinary $ intervals' S.|> leftHalf S.|> rightHalf\n",
    "                else\n",
    "                    case compare x x' of\n",
    "                        EQ -> Just middle\n",
    "                        LT -> modifiedBinary $ intervals' S.|> leftHalf\n",
    "                        GT -> modifiedBinary $ intervals' S.|> rightHalf\n",
    "            where\n",
    "                ((left, right), intervals') = popInterval intervals\n",
    "\n",
    "                middle = left + (right - left) `div` 2\n",
    "                leftHalf = (left, (middle - 1))\n",
    "                rightHalf = ((middle + 1), right)\n",
    "\n",
    "                x' = xs ! middle\n",
    "    in\n",
    "        modifiedBinary $ S.singleton $ bounds xs"
   ]
  },
  {
   "cell_type": "code",
   "execution_count": 5,
   "metadata": {
    "collapsed": false
   },
   "outputs": [
    {
     "data": {
      "text/html": [
       "<style>/* Styles used for the Hoogle display in the pager */\n",
       ".hoogle-doc {\n",
       "display: block;\n",
       "padding-bottom: 1.3em;\n",
       "padding-left: 0.4em;\n",
       "}\n",
       ".hoogle-code {\n",
       "display: block;\n",
       "font-family: monospace;\n",
       "white-space: pre;\n",
       "}\n",
       ".hoogle-text {\n",
       "display: block;\n",
       "}\n",
       ".hoogle-name {\n",
       "color: green;\n",
       "font-weight: bold;\n",
       "}\n",
       ".hoogle-head {\n",
       "font-weight: bold;\n",
       "}\n",
       ".hoogle-sub {\n",
       "display: block;\n",
       "margin-left: 0.4em;\n",
       "}\n",
       ".hoogle-package {\n",
       "font-weight: bold;\n",
       "font-style: italic;\n",
       "}\n",
       ".hoogle-module {\n",
       "font-weight: bold;\n",
       "}\n",
       ".hoogle-class {\n",
       "font-weight: bold;\n",
       "}\n",
       ".get-type {\n",
       "color: green;\n",
       "font-weight: bold;\n",
       "font-family: monospace;\n",
       "display: block;\n",
       "white-space: pre-wrap;\n",
       "}\n",
       ".show-type {\n",
       "color: green;\n",
       "font-weight: bold;\n",
       "font-family: monospace;\n",
       "margin-left: 1em;\n",
       "}\n",
       ".mono {\n",
       "font-family: monospace;\n",
       "display: block;\n",
       "}\n",
       ".err-msg {\n",
       "color: red;\n",
       "font-style: italic;\n",
       "font-family: monospace;\n",
       "white-space: pre;\n",
       "display: block;\n",
       "}\n",
       "#unshowable {\n",
       "color: red;\n",
       "font-weight: bold;\n",
       "}\n",
       ".err-msg.in.collapse {\n",
       "padding-top: 0.7em;\n",
       "}\n",
       ".highlight-code {\n",
       "white-space: pre;\n",
       "font-family: monospace;\n",
       "}\n",
       ".suggestion-warning { \n",
       "font-weight: bold;\n",
       "color: rgb(200, 130, 0);\n",
       "}\n",
       ".suggestion-error { \n",
       "font-weight: bold;\n",
       "color: red;\n",
       "}\n",
       ".suggestion-name {\n",
       "font-weight: bold;\n",
       "}\n",
       "</style><span style='color: green; font-weight: bold;'>Just</span><span style='font-family: monospace;'>4</span>"
      ],
      "text/plain": [
       "Just 4"
      ]
     },
     "metadata": {},
     "output_type": "display_data"
    }
   ],
   "source": [
    "xs = [\"at\", \"\", \"\", \"\", \"ball\", \"\", \"\", \"car\", \"\", \"\", \"dad\", \"\", \"\"]\n",
    "xs' = listArray (0, length xs - 1) xs\n",
    "\n",
    "\"ball\" `sparseSearch` xs'"
   ]
  },
  {
   "cell_type": "markdown",
   "metadata": {},
   "source": [
    "## Tests"
   ]
  },
  {
   "cell_type": "code",
   "execution_count": 6,
   "metadata": {
    "collapsed": true
   },
   "outputs": [],
   "source": [
    "import Test.QuickCheck"
   ]
  },
  {
   "cell_type": "code",
   "execution_count": 7,
   "metadata": {
    "collapsed": true
   },
   "outputs": [],
   "source": [
    "import Data.List (nub, sort)"
   ]
  },
  {
   "cell_type": "code",
   "execution_count": 8,
   "metadata": {
    "collapsed": false
   },
   "outputs": [],
   "source": [
    "testSparseSearchRandomized :: [String] -> Bool\n",
    "testSparseSearchRandomized xs =\n",
    "    let\n",
    "        xs' = sort xs\n",
    "        \n",
    "        haystack = listArray (1, length xs') xs'\n",
    "        needles = nub xs'\n",
    "        \n",
    "        checkIndex :: (String, Maybe Int) -> Bool \n",
    "        checkIndex (needle, index) =\n",
    "            maybe False (\\i -> haystack ! i == needle) index\n",
    "    in\n",
    "        all checkIndex $ zip needles $ map (`sparseSearch` haystack) needles"
   ]
  },
  {
   "cell_type": "code",
   "execution_count": 9,
   "metadata": {
    "collapsed": false
   },
   "outputs": [
    {
     "data": {
      "text/plain": [
       "+++ OK, passed 100 tests."
      ]
     },
     "metadata": {},
     "output_type": "display_data"
    }
   ],
   "source": [
    "quickCheck testSparseSearchRandomized"
   ]
  }
 ],
 "metadata": {
  "kernelspec": {
   "display_name": "Haskell",
   "language": "haskell",
   "name": "haskell"
  },
  "language_info": {
   "codemirror_mode": "ihaskell",
   "file_extension": ".hs",
   "name": "haskell",
   "version": "7.10.2"
  }
 },
 "nbformat": 4,
 "nbformat_minor": 0
}
