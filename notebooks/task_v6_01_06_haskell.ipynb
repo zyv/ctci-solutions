{
 "cells": [
  {
   "cell_type": "markdown",
   "metadata": {},
   "source": [
    "# String Compression"
   ]
  },
  {
   "cell_type": "code",
   "execution_count": 1,
   "metadata": {
    "collapsed": true
   },
   "outputs": [],
   "source": [
    "import Data.List (group, foldl')"
   ]
  },
  {
   "cell_type": "code",
   "execution_count": 2,
   "metadata": {
    "collapsed": false
   },
   "outputs": [],
   "source": [
    "compress :: String -> String\n",
    "compress xs\n",
    "    | length compressedString < length xs = compressedString\n",
    "    | otherwise = xs\n",
    "        where compressedString = \n",
    "                concatMap (\\ys -> head ys : show (length ys)) $ group xs"
   ]
  },
  {
   "cell_type": "code",
   "execution_count": 3,
   "metadata": {
    "collapsed": false
   },
   "outputs": [],
   "source": [
    "compress' :: String -> String\n",
    "compress' xs = if length result < length xs then result else xs\n",
    "    where\n",
    "        countToReversedString = reverse . show\n",
    "        \n",
    "        computeState :: Maybe (Char, Int, String) -> Char -> Maybe (Char, Int, String)\n",
    "        computeState Nothing current = Just (current, 1, [current])\n",
    "        computeState (Just (previous, count, accumulator)) current\n",
    "            | previous == current = Just (current, succ count, accumulator)\n",
    "            | otherwise = Just (current, 1, current : countToReversedString count ++ accumulator)\n",
    "\n",
    "        result = case foldl' computeState Nothing xs of\n",
    "            Nothing -> \"\"\n",
    "            Just (previous, count, accumulator) -> reverse $ countToReversedString count ++ accumulator"
   ]
  },
  {
   "cell_type": "code",
   "execution_count": 4,
   "metadata": {
    "collapsed": false
   },
   "outputs": [],
   "source": [
    "decompress :: String -> String\n",
    "decompress xs\n",
    "    | not isCompressed = xs\n",
    "    | otherwise = decompress' xs\n",
    "    where\n",
    "        isCompressed = any (`elem` ['1'..'9']) xs :: Bool\n",
    "            \n",
    "        decompress' :: String -> String\n",
    "        decompress' \"\" = \"\"\n",
    "        decompress' (chr:ys) = replicate (read count) chr ++ decompress' ys'\n",
    "            where\n",
    "                (count, ys') = span (`elem` ['0'..'9']) ys"
   ]
  },
  {
   "cell_type": "code",
   "execution_count": 5,
   "metadata": {
    "collapsed": false
   },
   "outputs": [
    {
     "data": {
      "text/plain": [
       "\"a3b1c3d4e1f2a2b1\""
      ]
     },
     "metadata": {},
     "output_type": "display_data"
    },
    {
     "data": {
      "text/plain": [
       "\"aaabcccddddeffaab\""
      ]
     },
     "metadata": {},
     "output_type": "display_data"
    }
   ],
   "source": [
    "compress \"aaabcccddddeffaab\"\n",
    "decompress \"a3b1c3d4e1f2a2b1\""
   ]
  },
  {
   "cell_type": "code",
   "execution_count": 6,
   "metadata": {
    "collapsed": false
   },
   "outputs": [
    {
     "data": {
      "text/plain": [
       "\"a13b1c1d1e1f1g1\""
      ]
     },
     "metadata": {},
     "output_type": "display_data"
    },
    {
     "data": {
      "text/plain": [
       "\"aaaaaaaaaaaaabcdefg\""
      ]
     },
     "metadata": {},
     "output_type": "display_data"
    }
   ],
   "source": [
    "compress \"aaaaaaaaaaaaabcdefg\"\n",
    "decompress \"a13b1c1d1e1f1g1\""
   ]
  },
  {
   "cell_type": "markdown",
   "metadata": {},
   "source": [
    "## Tests"
   ]
  },
  {
   "cell_type": "code",
   "execution_count": 7,
   "metadata": {
    "collapsed": true
   },
   "outputs": [],
   "source": [
    "import Test.QuickCheck"
   ]
  },
  {
   "cell_type": "code",
   "execution_count": 8,
   "metadata": {
    "collapsed": false
   },
   "outputs": [],
   "source": [
    "newtype CompressibleString = CompressibleString String deriving (Show)\n",
    "\n",
    "instance Arbitrary CompressibleString where\n",
    "    arbitrary = CompressibleString <$> concat <$> mapM (listOf . elements) (group ['a'..'z'])"
   ]
  },
  {
   "cell_type": "code",
   "execution_count": 9,
   "metadata": {
    "collapsed": false
   },
   "outputs": [],
   "source": [
    "testRoundtrip :: (String -> String) -> (String -> String) -> CompressibleString -> Bool\n",
    "testRoundtrip compressFunc decompressFunc (CompressibleString xs) =\n",
    "    xs == decompressFunc xs' && length xs' <= length xs\n",
    "        where\n",
    "            xs' = compressFunc xs"
   ]
  },
  {
   "cell_type": "code",
   "execution_count": 10,
   "metadata": {
    "collapsed": false
   },
   "outputs": [
    {
     "data": {
      "text/plain": [
       "+++ OK, passed 100 tests."
      ]
     },
     "metadata": {},
     "output_type": "display_data"
    },
    {
     "data": {
      "text/plain": [
       "+++ OK, passed 100 tests."
      ]
     },
     "metadata": {},
     "output_type": "display_data"
    }
   ],
   "source": [
    "quickCheck $ testRoundtrip compress decompress\n",
    "quickCheck $ testRoundtrip compress' decompress"
   ]
  }
 ],
 "metadata": {
  "kernelspec": {
   "display_name": "Haskell",
   "language": "haskell",
   "name": "haskell"
  },
  "language_info": {
   "codemirror_mode": "ihaskell",
   "file_extension": ".hs",
   "name": "haskell",
   "version": "7.10.2"
  }
 },
 "nbformat": 4,
 "nbformat_minor": 0
}
