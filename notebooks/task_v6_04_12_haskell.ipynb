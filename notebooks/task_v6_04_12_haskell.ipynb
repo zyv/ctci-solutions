{
 "cells": [
  {
   "cell_type": "markdown",
   "metadata": {},
   "source": [
    "# Paths with Sum"
   ]
  },
  {
   "cell_type": "code",
   "execution_count": 1,
   "metadata": {
    "collapsed": true
   },
   "outputs": [],
   "source": [
    "data Tree = Empty | Node { getValue :: Int\n",
    "                         , getLeft :: Tree\n",
    "                         , getRight :: Tree\n",
    "                         } deriving (Show)"
   ]
  },
  {
   "cell_type": "code",
   "execution_count": 2,
   "metadata": {
    "collapsed": false
   },
   "outputs": [],
   "source": [
    "countPathsFromNode :: Tree -> Int -> Int\n",
    "countPathsFromNode Empty _ = 0\n",
    "countPathsFromNode (Node value left right) target =\n",
    "    let\n",
    "        target' = target - value\n",
    "    in\n",
    "        countPathsFromNode left target' +\n",
    "        countPathsFromNode right target' +\n",
    "            if target == value then 1 else 0\n",
    "\n",
    "countPaths :: Tree -> Int -> Int\n",
    "countPaths Empty _ = 0\n",
    "countPaths node target =\n",
    "    countPathsFromNode node target +\n",
    "    countPaths (getLeft node) target +\n",
    "    countPaths (getRight node) target"
   ]
  },
  {
   "cell_type": "code",
   "execution_count": 3,
   "metadata": {
    "collapsed": false
   },
   "outputs": [
    {
     "data": {
      "text/plain": [
       "1"
      ]
     },
     "metadata": {},
     "output_type": "display_data"
    },
    {
     "data": {
      "text/plain": [
       "2"
      ]
     },
     "metadata": {},
     "output_type": "display_data"
    }
   ],
   "source": [
    "tree = Node 3 (Node 2 (Node 1 Empty Empty) Empty) (Node 5 (Node 4 Empty Empty) Empty)\n",
    "countPathsFromNode tree 3\n",
    "countPaths tree 3"
   ]
  }
 ],
 "metadata": {
  "kernelspec": {
   "display_name": "Haskell",
   "language": "haskell",
   "name": "haskell"
  },
  "language_info": {
   "codemirror_mode": "ihaskell",
   "file_extension": ".hs",
   "name": "haskell",
   "version": "7.10.2"
  }
 },
 "nbformat": 4,
 "nbformat_minor": 0
}
