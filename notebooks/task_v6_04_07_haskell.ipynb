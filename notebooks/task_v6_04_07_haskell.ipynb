{
 "cells": [
  {
   "cell_type": "markdown",
   "metadata": {},
   "source": [
    "# Build Order"
   ]
  },
  {
   "cell_type": "code",
   "execution_count": 1,
   "metadata": {
    "collapsed": true
   },
   "outputs": [],
   "source": [
    "import qualified Data.Map as Map"
   ]
  },
  {
   "cell_type": "code",
   "execution_count": 2,
   "metadata": {
    "collapsed": false
   },
   "outputs": [],
   "source": [
    "type DependencyGraph a = Map.Map a [a]"
   ]
  },
  {
   "cell_type": "code",
   "execution_count": 3,
   "metadata": {
    "collapsed": false
   },
   "outputs": [],
   "source": [
    "dependencyGraph :: (Ord a) => [a] -> [(a, a)] -> DependencyGraph a\n",
    "dependencyGraph ps ds =\n",
    "    Map.fromList [ (p, map snd $ filter ((p ==) . fst) ds) | p <- ps]"
   ]
  },
  {
   "cell_type": "code",
   "execution_count": 4,
   "metadata": {
    "collapsed": false
   },
   "outputs": [
    {
     "data": {
      "text/plain": [
       "fromList [(\"a\",[\"f\"]),(\"b\",[\"f\"]),(\"c\",[\"d\"]),(\"d\",[\"a\",\"b\"]),(\"e\",[]),(\"f\",[])]"
      ]
     },
     "metadata": {},
     "output_type": "display_data"
    }
   ],
   "source": [
    "example = dependencyGraph\n",
    "    [\"a\", \"b\", \"c\", \"d\", \"e\", \"f\"]\n",
    "    [(\"d\", \"a\"), (\"b\", \"f\"), (\"d\", \"b\"), (\"a\", \"f\"), (\"c\", \"d\")]\n",
    "    \n",
    "example"
   ]
  },
  {
   "cell_type": "code",
   "execution_count": 5,
   "metadata": {
    "collapsed": true
   },
   "outputs": [],
   "source": [
    "import Data.List\n",
    "import Data.Maybe"
   ]
  },
  {
   "cell_type": "code",
   "execution_count": 6,
   "metadata": {
    "collapsed": true
   },
   "outputs": [],
   "source": [
    "{-# LANGUAGE ScopedTypeVariables #-}"
   ]
  },
  {
   "cell_type": "code",
   "execution_count": 7,
   "metadata": {
    "collapsed": false
   },
   "outputs": [
    {
     "data": {
      "text/plain": [
       "Right [\"f\",\"a\",\"b\",\"d\",\"c\",\"e\"]"
      ]
     },
     "metadata": {},
     "output_type": "display_data"
    },
    {
     "data": {
      "text/plain": [
       "Left \"Cycle detected: \\\"a\\\"\""
      ]
     },
     "metadata": {},
     "output_type": "display_data"
    }
   ],
   "source": [
    "buildOrder :: forall a. (Ord a, Show a) => DependencyGraph a -> Either String [a]\n",
    "buildOrder ds =\n",
    "    let\n",
    "        computeState :: (Either String [a], [a]) -> a -> (Either String [a], [a])\n",
    "        computeState (Left message, _) _ = (Left message, [])\n",
    "        computeState (Right done, visited) key\n",
    "            | key `elem` done = (Right done, visited)\n",
    "            | key `elem` visited = (Left (\"Cycle detected: \" ++ show key), visited)\n",
    "            | otherwise =\n",
    "                let\n",
    "                    tbd = filter (not . (`elem` done)) $ fromJust $ Map.lookup key ds -- !\n",
    "                    (done', visited') = foldl' computeState (Right done, key:visited) tbd\n",
    "                in\n",
    "                    (fmap (++ [key]) done', visited')\n",
    "    in\n",
    "        fst $ foldl' computeState (Right [], []) $ Map.keys ds\n",
    "\n",
    "buildOrder example\n",
    "buildOrder $ Map.fromList [(\"a\",[\"b\"]),(\"b\",[\"a\"])]"
   ]
  },
  {
   "cell_type": "code",
   "execution_count": 8,
   "metadata": {
    "collapsed": true
   },
   "outputs": [],
   "source": [
    "import Test.QuickCheck"
   ]
  },
  {
   "cell_type": "code",
   "execution_count": 9,
   "metadata": {
    "collapsed": false
   },
   "outputs": [],
   "source": [
    "hasCycles :: forall a. (Ord a) => DependencyGraph a -> Bool\n",
    "hasCycles ds =\n",
    "    let\n",
    "        hasCyclesFrom :: [a] -> a -> Bool\n",
    "        hasCyclesFrom visited key\n",
    "            | key `elem` visited = True\n",
    "            | otherwise =\n",
    "                maybe False (any (hasCyclesFrom (key:visited))) (Map.lookup key ds)\n",
    "    in\n",
    "        any (hasCyclesFrom []) (Map.keys ds)"
   ]
  },
  {
   "cell_type": "code",
   "execution_count": 10,
   "metadata": {
    "collapsed": false
   },
   "outputs": [],
   "source": [
    "checkOrder :: forall a. (Ord a) => DependencyGraph a -> [a] -> Bool\n",
    "checkOrder ds order =\n",
    "    let\n",
    "        computeState :: Maybe [a] -> a -> Maybe [a]\n",
    "        computeState Nothing _ = Nothing\n",
    "        computeState (Just done) key\n",
    "            | maybe False (all (`elem` done)) (Map.lookup key ds) = Just (key:done)\n",
    "            | otherwise = Nothing\n",
    "    in\n",
    "        length order == length (Map.keys ds) &&\n",
    "            isJust (foldl' computeState (Just []) order)"
   ]
  },
  {
   "cell_type": "code",
   "execution_count": 11,
   "metadata": {
    "collapsed": false
   },
   "outputs": [
    {
     "data": {
      "text/plain": [
       "True"
      ]
     },
     "metadata": {},
     "output_type": "display_data"
    },
    {
     "data": {
      "text/plain": [
       "False"
      ]
     },
     "metadata": {},
     "output_type": "display_data"
    }
   ],
   "source": [
    "either (const False) (checkOrder example) $ buildOrder example\n",
    "checkOrder example $ Map.keys example"
   ]
  },
  {
   "cell_type": "code",
   "execution_count": 12,
   "metadata": {
    "collapsed": false
   },
   "outputs": [
    {
     "data": {
      "text/plain": [
       "False"
      ]
     },
     "metadata": {},
     "output_type": "display_data"
    },
    {
     "data": {
      "text/plain": [
       "True"
      ]
     },
     "metadata": {},
     "output_type": "display_data"
    }
   ],
   "source": [
    "hasCycles example\n",
    "hasCycles $ Map.fromList [(\"a\",[\"b\"]),(\"b\",[\"a\"])]"
   ]
  },
  {
   "cell_type": "code",
   "execution_count": 13,
   "metadata": {
    "collapsed": true
   },
   "outputs": [],
   "source": [
    "data GenericDependencyGraph a = GenericDependencyGraph (DependencyGraph a) deriving (Show)\n",
    "\n",
    "instance (Ord a, Arbitrary a) => Arbitrary (GenericDependencyGraph a) where\n",
    "    arbitrary = do\n",
    "        keys <- fmap nub $ listOf arbitrary\n",
    "        values <- sequence $ replicate (length keys) (sublistOf keys)\n",
    "        return $ GenericDependencyGraph (Map.fromList $ zip keys values)"
   ]
  },
  {
   "cell_type": "code",
   "execution_count": 14,
   "metadata": {
    "collapsed": true
   },
   "outputs": [],
   "source": [
    "import Control.Applicative"
   ]
  },
  {
   "cell_type": "code",
   "execution_count": 15,
   "metadata": {
    "collapsed": false,
    "scrolled": true
   },
   "outputs": [],
   "source": [
    "testGeneric :: GenericDependencyGraph Int -> Bool\n",
    "testGeneric (GenericDependencyGraph ds) =\n",
    "    let\n",
    "        isCyclicGraph = hasCycles ds\n",
    "    in\n",
    "        either \n",
    "            (const isCyclicGraph)\n",
    "            (not isCyclicGraph &&)\n",
    "                (checkOrder ds <$> buildOrder ds)"
   ]
  },
  {
   "cell_type": "code",
   "execution_count": 16,
   "metadata": {
    "collapsed": false
   },
   "outputs": [
    {
     "data": {
      "text/plain": [
       "+++ OK, passed 100 tests."
      ]
     },
     "metadata": {},
     "output_type": "display_data"
    }
   ],
   "source": [
    "quickCheck testGeneric\n",
    "--verboseCheckWith stdArgs { maxSize = 5 } testGeneric"
   ]
  },
  {
   "cell_type": "code",
   "execution_count": 17,
   "metadata": {
    "collapsed": false
   },
   "outputs": [],
   "source": [
    "data AcyclicDependencyGraph a = AcyclicDependencyGraph (DependencyGraph a) deriving (Show)\n",
    "\n",
    "instance (Ord a, Arbitrary a) => Arbitrary (AcyclicDependencyGraph a) where\n",
    "    arbitrary = do\n",
    "        keys <- fmap nub $ listOf arbitrary\n",
    "        deps <- sequence $ map sublistOf $ map tail $ init . tails $ keys\n",
    "        return $ AcyclicDependencyGraph (Map.fromList $ zip keys deps)"
   ]
  },
  {
   "cell_type": "code",
   "execution_count": 18,
   "metadata": {
    "collapsed": false
   },
   "outputs": [
    {
     "data": {
      "text/plain": [
       "AcyclicDependencyGraph (fromList [(-27,[]),(-25,[-27,-17]),(-19,[-17]),(-17,[]),(-13,[-25,-27]),(16,[-25,-27])])"
      ]
     },
     "metadata": {},
     "output_type": "display_data"
    }
   ],
   "source": [
    "generate arbitrary :: IO (AcyclicDependencyGraph Int)"
   ]
  },
  {
   "cell_type": "code",
   "execution_count": 19,
   "metadata": {
    "collapsed": false
   },
   "outputs": [],
   "source": [
    "testAcyclic :: AcyclicDependencyGraph Int -> Bool\n",
    "testAcyclic (AcyclicDependencyGraph ds) =\n",
    "        either (const False) id $ checkOrder ds <$> buildOrder ds"
   ]
  },
  {
   "cell_type": "code",
   "execution_count": 20,
   "metadata": {
    "collapsed": false
   },
   "outputs": [
    {
     "data": {
      "text/plain": [
       "+++ OK, passed 100 tests."
      ]
     },
     "metadata": {},
     "output_type": "display_data"
    }
   ],
   "source": [
    "quickCheckWith stdArgs { maxSize = 5 } testAcyclic"
   ]
  }
 ],
 "metadata": {
  "kernelspec": {
   "display_name": "Haskell",
   "language": "haskell",
   "name": "haskell"
  },
  "language_info": {
   "codemirror_mode": "ihaskell",
   "file_extension": ".hs",
   "name": "haskell",
   "version": "7.10.2"
  }
 },
 "nbformat": 4,
 "nbformat_minor": 0
}
