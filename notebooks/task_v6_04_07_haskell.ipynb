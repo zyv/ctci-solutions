{
 "cells": [
  {
   "cell_type": "markdown",
   "metadata": {},
   "source": [
    "# Build Order"
   ]
  },
  {
   "cell_type": "code",
   "execution_count": 1,
   "metadata": {
    "collapsed": true
   },
   "outputs": [],
   "source": [
    "import qualified Data.Map as Map"
   ]
  },
  {
   "cell_type": "code",
   "execution_count": 2,
   "metadata": {
    "collapsed": false
   },
   "outputs": [],
   "source": [
    "dependencyGraph :: (Ord a) => [a] -> [(a, a)] -> Map.Map a [a]\n",
    "dependencyGraph ps ds =\n",
    "    Map.fromList [ (p, map snd $ filter ((p ==) . fst) ds) | p <- ps]"
   ]
  },
  {
   "cell_type": "code",
   "execution_count": 3,
   "metadata": {
    "collapsed": false
   },
   "outputs": [
    {
     "data": {
      "text/plain": [
       "fromList [(\"a\",[\"f\"]),(\"b\",[\"f\"]),(\"c\",[\"d\"]),(\"d\",[\"a\",\"b\"]),(\"e\",[]),(\"f\",[])]"
      ]
     },
     "metadata": {},
     "output_type": "display_data"
    }
   ],
   "source": [
    "example = dependencyGraph\n",
    "    [\"a\", \"b\", \"c\", \"d\", \"e\", \"f\"]\n",
    "    [(\"d\", \"a\"), (\"b\", \"f\"), (\"d\", \"b\"), (\"a\", \"f\"), (\"c\", \"d\")]\n",
    "    \n",
    "example"
   ]
  },
  {
   "cell_type": "code",
   "execution_count": 4,
   "metadata": {
    "collapsed": true
   },
   "outputs": [],
   "source": [
    "import Data.Maybe\n",
    "import Data.List"
   ]
  },
  {
   "cell_type": "code",
   "execution_count": 5,
   "metadata": {
    "collapsed": true
   },
   "outputs": [],
   "source": [
    "{-# LANGUAGE ScopedTypeVariables #-}"
   ]
  },
  {
   "cell_type": "code",
   "execution_count": 6,
   "metadata": {
    "collapsed": false
   },
   "outputs": [
    {
     "data": {
      "text/plain": [
       "Right [\"f\",\"a\",\"b\",\"d\",\"c\",\"e\"]"
      ]
     },
     "metadata": {},
     "output_type": "display_data"
    },
    {
     "data": {
      "text/plain": [
       "Left \"Cycle detected: \\\"a\\\"\""
      ]
     },
     "metadata": {},
     "output_type": "display_data"
    }
   ],
   "source": [
    "buildOrder :: forall a. (Ord a, Show a) => Map.Map a [a] -> Either String [a]\n",
    "buildOrder deps =\n",
    "    let\n",
    "        computeState :: (Either String [a], [a]) -> a -> (Either String [a], [a])\n",
    "        computeState (Left message, _) _ = (Left message, [])\n",
    "        computeState (Right done, visited) key\n",
    "            | key `elem` done = (Right done, visited)\n",
    "            | key `elem` visited = (Left (\"Cycle detected: \" ++ show key), visited)\n",
    "            | otherwise =\n",
    "                let\n",
    "                    tbd = filter (not.(`elem` done)) $ fromJust $ Map.lookup key deps -- !\n",
    "                    (done', visited') = foldl' computeState (Right done, key:visited) tbd\n",
    "                in\n",
    "                    (fmap (++ [key]) done', visited')\n",
    "    in\n",
    "        fst $ foldl' computeState (Right [], []) $ Map.keys deps\n",
    "\n",
    "buildOrder example\n",
    "buildOrder $ Map.fromList [(\"a\",[\"b\"]),(\"b\",[\"a\"])]"
   ]
  },
  {
   "cell_type": "code",
   "execution_count": 7,
   "metadata": {
    "collapsed": true
   },
   "outputs": [],
   "source": [
    "import Test.QuickCheck"
   ]
  },
  {
   "cell_type": "code",
   "execution_count": 8,
   "metadata": {
    "collapsed": true
   },
   "outputs": [],
   "source": [
    "data DependencyGraph a = DependencyGraph (Map.Map a [a]) deriving (Show)\n",
    "\n",
    "instance (Ord a, Arbitrary a) => Arbitrary (DependencyGraph a) where\n",
    "    arbitrary = do\n",
    "        keys <- fmap nub $ listOf arbitrary\n",
    "        values <- sequence $ replicate (length keys) (sublistOf keys)\n",
    "        return $ DependencyGraph (Map.fromList $ zip keys values)"
   ]
  },
  {
   "cell_type": "code",
   "execution_count": 9,
   "metadata": {
    "collapsed": false,
    "scrolled": true
   },
   "outputs": [
    {
     "data": {
      "text/plain": [
       "Passed:\n",
       "DependencyGraph (fromList [])\n",
       "Failed:\n",
       "DependencyGraph (fromList [(-1,[-1])])\n",
       "*** Failed! Falsifiable (after 2 tests): \n",
       "DependencyGraph (fromList [(-1,[-1])])"
      ]
     },
     "metadata": {},
     "output_type": "display_data"
    }
   ],
   "source": [
    "testBasic :: DependencyGraph Int -> Bool\n",
    "testBasic (DependencyGraph x) =\n",
    "    let\n",
    "        result = buildOrder x\n",
    "    in\n",
    "        case result of\n",
    "            (Right order) -> Map.keys x == sort order\n",
    "            (Left message) -> False\n",
    "\n",
    "verboseCheckWith stdArgs { maxSize = 5 } testBasic"
   ]
  }
 ],
 "metadata": {
  "kernelspec": {
   "display_name": "Haskell",
   "language": "haskell",
   "name": "haskell"
  },
  "language_info": {
   "codemirror_mode": "ihaskell",
   "file_extension": ".hs",
   "name": "haskell",
   "version": "7.10.2"
  }
 },
 "nbformat": 4,
 "nbformat_minor": 0
}
