{
 "cells": [
  {
   "cell_type": "markdown",
   "metadata": {},
   "source": [
    "# Build Order"
   ]
  },
  {
   "cell_type": "code",
   "execution_count": 1,
   "metadata": {
    "collapsed": true
   },
   "outputs": [],
   "source": [
    "import qualified Data.Map as Map"
   ]
  },
  {
   "cell_type": "code",
   "execution_count": 2,
   "metadata": {
    "collapsed": false
   },
   "outputs": [],
   "source": [
    "dependencyGraph :: (Ord a) => [a] -> [(a, a)] -> Map.Map a [a]\n",
    "dependencyGraph ps ds =\n",
    "    Map.fromList [ (p, map snd $ filter ((p ==) . fst) ds) | p <- ps]"
   ]
  },
  {
   "cell_type": "code",
   "execution_count": 3,
   "metadata": {
    "collapsed": false
   },
   "outputs": [
    {
     "data": {
      "text/plain": [
       "fromList [(\"a\",[\"f\"]),(\"b\",[\"f\"]),(\"c\",[\"d\"]),(\"d\",[\"a\",\"b\"]),(\"e\",[]),(\"f\",[])]"
      ]
     },
     "metadata": {},
     "output_type": "display_data"
    }
   ],
   "source": [
    "dependencyGraph\n",
    "    [\"a\", \"b\", \"c\", \"d\", \"e\", \"f\"]\n",
    "    [(\"d\", \"a\"), (\"b\", \"f\"), (\"d\", \"b\"), (\"a\", \"f\"), (\"c\", \"d\")]"
   ]
  }
 ],
 "metadata": {
  "kernelspec": {
   "display_name": "Haskell",
   "language": "haskell",
   "name": "haskell"
  },
  "language_info": {
   "codemirror_mode": "ihaskell",
   "file_extension": ".hs",
   "name": "haskell",
   "version": "7.10.2"
  }
 },
 "nbformat": 4,
 "nbformat_minor": 0
}
