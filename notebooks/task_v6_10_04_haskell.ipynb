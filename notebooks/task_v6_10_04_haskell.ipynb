{
 "cells": [
  {
   "cell_type": "markdown",
   "metadata": {},
   "source": [
    "# Sorted Search, No Size"
   ]
  },
  {
   "cell_type": "code",
   "execution_count": 1,
   "metadata": {
    "collapsed": true
   },
   "outputs": [],
   "source": [
    "import Data.Array"
   ]
  },
  {
   "cell_type": "code",
   "execution_count": 2,
   "metadata": {
    "collapsed": true
   },
   "outputs": [],
   "source": [
    "data Listy i e = Listy (Array i e)"
   ]
  },
  {
   "cell_type": "code",
   "execution_count": 3,
   "metadata": {
    "collapsed": false
   },
   "outputs": [],
   "source": [
    "elementAt :: (Ix i, Show i) => Listy i e -> i -> Maybe e\n",
    "elementAt (Listy xs) i = \n",
    "    let \n",
    "        (left, right) = bounds xs\n",
    "    in\n",
    "        if left <= i && i <= right then\n",
    "            Just $ xs ! i\n",
    "        else\n",
    "            Nothing\n",
    "            \n",
    "lowerBound :: (Ix i) => Listy i e -> i\n",
    "lowerBound (Listy xs) = fst $ bounds xs"
   ]
  },
  {
   "cell_type": "code",
   "execution_count": 4,
   "metadata": {
    "collapsed": true
   },
   "outputs": [],
   "source": [
    "{-# LANGUAGE ScopedTypeVariables #-}"
   ]
  },
  {
   "cell_type": "code",
   "execution_count": 5,
   "metadata": {
    "collapsed": true
   },
   "outputs": [],
   "source": [
    "import Data.Maybe (maybe)"
   ]
  },
  {
   "cell_type": "code",
   "execution_count": 6,
   "metadata": {
    "collapsed": false
   },
   "outputs": [],
   "source": [
    "searchSorted :: forall i e. (Integral i, Ix i, Show i, Ord e) => e -> Listy i e -> Maybe i\n",
    "searchSorted x xs =\n",
    "    let\n",
    "        start = lowerBound xs\n",
    "        \n",
    "        comparison :: i -> i -> Maybe i -> Maybe i\n",
    "        comparison left middle maybeRight =\n",
    "            case xs `elementAt` middle of\n",
    "                Nothing -> binarySearch left (Just (middle - 1))\n",
    "                Just x' -> \n",
    "                    case compare x x' of\n",
    "                        EQ -> Just middle\n",
    "                        LT -> binarySearch left (Just (middle - 1))\n",
    "                        GT -> binarySearch (middle + 1) maybeRight\n",
    "\n",
    "        binarySearch :: i -> Maybe i -> Maybe i\n",
    "        binarySearch left maybeRight\n",
    "            | maybe False (left >) maybeRight = Nothing\n",
    "            | otherwise =\n",
    "                let\n",
    "                    middle = case maybeRight of\n",
    "                        Just right -> left + (right - left) `div` 2\n",
    "                        Nothing -> 2 * left - start + 1\n",
    "                in\n",
    "                    comparison left middle maybeRight\n",
    "    in\n",
    "        binarySearch start Nothing"
   ]
  },
  {
   "cell_type": "markdown",
   "metadata": {},
   "source": [
    "## Tests"
   ]
  },
  {
   "cell_type": "code",
   "execution_count": 7,
   "metadata": {
    "collapsed": true
   },
   "outputs": [],
   "source": [
    "import Data.List (nub)\n",
    "import Data.Maybe (isNothing)"
   ]
  },
  {
   "cell_type": "code",
   "execution_count": 8,
   "metadata": {
    "collapsed": false
   },
   "outputs": [
    {
     "data": {
      "text/plain": [
       "True"
      ]
     },
     "metadata": {},
     "output_type": "display_data"
    }
   ],
   "source": [
    "testSearchSorted :: [Int] -> Bool\n",
    "testSearchSorted [] = True\n",
    "testSearchSorted xs =\n",
    "    let\n",
    "        xs' = Listy $ listArray (1, length xs) xs\n",
    "        \n",
    "        needles = nub xs\n",
    "        needles' = filter (`notElem` needles) [pred (head needles) .. succ (last needles)]\n",
    "        \n",
    "        checkIndex :: (Int, Maybe Int) -> Bool \n",
    "        checkIndex (needle, index) = maybe False (\\i -> (xs' `elementAt` i) == Just needle) index\n",
    "    in\n",
    "        all checkIndex (zip needles $ map (`searchSorted` xs') needles) &&\n",
    "            all isNothing (map (`searchSorted` xs') needles')\n",
    "\n",
    "testSearchSorted [-5..5]"
   ]
  },
  {
   "cell_type": "code",
   "execution_count": 9,
   "metadata": {
    "collapsed": true
   },
   "outputs": [],
   "source": [
    "import Test.QuickCheck\n",
    "import Data.List (sort)"
   ]
  },
  {
   "cell_type": "code",
   "execution_count": 10,
   "metadata": {
    "collapsed": false
   },
   "outputs": [],
   "source": [
    "testSearchSortedRandomized :: [Int] -> Bool\n",
    "testSearchSortedRandomized = testSearchSorted . sort"
   ]
  },
  {
   "cell_type": "code",
   "execution_count": 11,
   "metadata": {
    "collapsed": false
   },
   "outputs": [
    {
     "data": {
      "text/plain": [
       "+++ OK, passed 100 tests."
      ]
     },
     "metadata": {},
     "output_type": "display_data"
    }
   ],
   "source": [
    "quickCheck testSearchSortedRandomized"
   ]
  }
 ],
 "metadata": {
  "kernelspec": {
   "display_name": "Haskell",
   "language": "haskell",
   "name": "haskell"
  },
  "language_info": {
   "codemirror_mode": "ihaskell",
   "file_extension": ".hs",
   "name": "haskell",
   "version": "7.10.2"
  }
 },
 "nbformat": 4,
 "nbformat_minor": 0
}
