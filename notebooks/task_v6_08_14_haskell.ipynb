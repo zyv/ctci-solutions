{
 "cells": [
  {
   "cell_type": "markdown",
   "metadata": {
    "collapsed": true
   },
   "source": [
    "# Boolean Evaluation"
   ]
  },
  {
   "cell_type": "code",
   "execution_count": 1,
   "metadata": {
    "collapsed": true
   },
   "outputs": [],
   "source": [
    "import Data.List"
   ]
  },
  {
   "cell_type": "code",
   "execution_count": 2,
   "metadata": {
    "collapsed": true
   },
   "outputs": [],
   "source": [
    "data ExprTree = One | Zero\n",
    "    | And ExprTree ExprTree \n",
    "    | Or ExprTree ExprTree\n",
    "    | Xor ExprTree ExprTree\n",
    "    deriving (Show)"
   ]
  },
  {
   "cell_type": "code",
   "execution_count": 3,
   "metadata": {
    "collapsed": false
   },
   "outputs": [],
   "source": [
    "makeTrees :: String -> [ExprTree]\n",
    "makeTrees \"0\" = [Zero]\n",
    "makeTrees \"1\" = [One]\n",
    "makeTrees xs =\n",
    "    let\n",
    "        makeNodes (op, ls, rs) =\n",
    "            [action l r | l <- (makeTrees ls), r <- (makeTrees rs)]\n",
    "                where action = case op of '|' -> Or\n",
    "                                          '&' -> And\n",
    "                                          '^' -> Xor\n",
    "    in\n",
    "        concatMap makeNodes splits\n",
    "    where\n",
    "        splits =\n",
    "            map (\\(ls, op:rs) -> (op, ls, rs)) $\n",
    "                map (`splitAt` xs) $ takeWhile (< length xs) [1,3..]"
   ]
  },
  {
   "cell_type": "code",
   "execution_count": 4,
   "metadata": {
    "collapsed": false
   },
   "outputs": [],
   "source": [
    "import Data.Bits"
   ]
  },
  {
   "cell_type": "code",
   "execution_count": 5,
   "metadata": {
    "collapsed": false
   },
   "outputs": [],
   "source": [
    "evalTree :: ExprTree -> Bool\n",
    "evalTree Zero = False\n",
    "evalTree One = True\n",
    "evalTree (And left right) = (evalTree left) && (evalTree right)\n",
    "evalTree (Or left right) = (evalTree left) || (evalTree right)\n",
    "evalTree (Xor left right) = (evalTree left) `xor` (evalTree right)"
   ]
  },
  {
   "cell_type": "code",
   "execution_count": 6,
   "metadata": {
    "collapsed": false
   },
   "outputs": [],
   "source": [
    "ways :: String -> Bool -> Int\n",
    "ways expr result =\n",
    "    length $ filter (== result) $ map evalTree $ makeTrees expr"
   ]
  },
  {
   "cell_type": "code",
   "execution_count": 7,
   "metadata": {
    "collapsed": false
   },
   "outputs": [
    {
     "data": {
      "text/plain": [
       "2"
      ]
     },
     "metadata": {},
     "output_type": "display_data"
    },
    {
     "data": {
      "text/plain": [
       "10"
      ]
     },
     "metadata": {},
     "output_type": "display_data"
    }
   ],
   "source": [
    "ways \"1^0|0|1\" False\n",
    "ways \"0&0&0&1^1|0\" True"
   ]
  }
 ],
 "metadata": {
  "kernelspec": {
   "display_name": "Haskell",
   "language": "haskell",
   "name": "haskell"
  },
  "language_info": {
   "codemirror_mode": "ihaskell",
   "file_extension": ".hs",
   "name": "haskell",
   "version": "7.10.2"
  }
 },
 "nbformat": 4,
 "nbformat_minor": 0
}
