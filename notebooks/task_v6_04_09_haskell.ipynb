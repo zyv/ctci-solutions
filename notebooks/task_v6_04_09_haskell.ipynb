{
 "cells": [
  {
   "cell_type": "markdown",
   "metadata": {},
   "source": [
    "# BST Sequences"
   ]
  },
  {
   "cell_type": "code",
   "execution_count": 1,
   "metadata": {
    "collapsed": false
   },
   "outputs": [],
   "source": [
    "data Tree a = Empty | Node a (Tree a) (Tree a)  deriving (Show, Eq)"
   ]
  },
  {
   "cell_type": "code",
   "execution_count": 2,
   "metadata": {
    "collapsed": true
   },
   "outputs": [],
   "source": [
    "{-# LANGUAGE ScopedTypeVariables #-}"
   ]
  },
  {
   "cell_type": "code",
   "execution_count": 3,
   "metadata": {
    "collapsed": true
   },
   "outputs": [],
   "source": [
    "import Data.List (foldl')"
   ]
  },
  {
   "cell_type": "code",
   "execution_count": 4,
   "metadata": {
    "collapsed": false
   },
   "outputs": [],
   "source": [
    "makeBST :: forall a. Ord a => [a] -> Tree a\n",
    "makeBST xs = foldl' insert Empty xs\n",
    "    where\n",
    "        insert :: Tree a -> a -> Tree a\n",
    "        insert Empty x = Node x Empty Empty\n",
    "        insert (Node y left right) x\n",
    "            | x > y = Node y left (insert right x)\n",
    "            | otherwise = Node y (insert left x) right"
   ]
  },
  {
   "cell_type": "code",
   "execution_count": 5,
   "metadata": {
    "collapsed": false
   },
   "outputs": [
    {
     "data": {
      "text/plain": [
       "Node 2 (Node 1 Empty Empty) (Node 3 Empty Empty)"
      ]
     },
     "metadata": {},
     "output_type": "display_data"
    },
    {
     "data": {
      "text/plain": [
       "Node 2 (Node 1 Empty Empty) (Node 3 Empty Empty)"
      ]
     },
     "metadata": {},
     "output_type": "display_data"
    }
   ],
   "source": [
    "makeBST [2, 1, 3]\n",
    "makeBST [2, 3, 1]"
   ]
  },
  {
   "cell_type": "code",
   "execution_count": 6,
   "metadata": {
    "collapsed": true
   },
   "outputs": [],
   "source": [
    "mix :: [a] -> [a] -> [[a]]\n",
    "mix xs [] = [xs]\n",
    "mix [] ys = [ys]\n",
    "mix (x:xs) (y:ys) = map (x:) (mix xs (y:ys)) ++ map (y:) (mix (x:xs) ys)"
   ]
  },
  {
   "cell_type": "code",
   "execution_count": 7,
   "metadata": {
    "collapsed": false
   },
   "outputs": [
    {
     "data": {
      "text/plain": [
       "[[1,2,3,4],[1,3,2,4],[1,3,4,2],[3,1,2,4],[3,1,4,2],[3,4,1,2]]"
      ]
     },
     "metadata": {},
     "output_type": "display_data"
    }
   ],
   "source": [
    "mix [1, 2] [3, 4]"
   ]
  },
  {
   "cell_type": "code",
   "execution_count": 8,
   "metadata": {
    "collapsed": false
   },
   "outputs": [],
   "source": [
    "bstSequences :: Tree a -> [[a]]\n",
    "bstSequences Empty = [[]]\n",
    "bstSequences (Node value left right) =\n",
    "     map (value:) $ concat [mix l r | l <- sequencesLeft, r <- sequencesRight]\n",
    "        where\n",
    "            sequencesLeft = bstSequences left\n",
    "            sequencesRight = bstSequences right"
   ]
  },
  {
   "cell_type": "code",
   "execution_count": 9,
   "metadata": {
    "collapsed": false
   },
   "outputs": [
    {
     "data": {
      "text/plain": [
       "[[2,1,3],[2,3,1]]"
      ]
     },
     "metadata": {},
     "output_type": "display_data"
    },
    {
     "data": {
      "text/plain": [
       "[[3,2,1,5,4],[3,2,5,1,4],[3,2,5,4,1],[3,5,2,1,4],[3,5,2,4,1],[3,5,4,2,1]]"
      ]
     },
     "metadata": {},
     "output_type": "display_data"
    }
   ],
   "source": [
    "bstSequences $ makeBST [2, 1, 3]\n",
    "bstSequences $ makeBST [3, 2, 1, 5, 4]"
   ]
  },
  {
   "cell_type": "markdown",
   "metadata": {},
   "source": [
    "## Tests"
   ]
  },
  {
   "cell_type": "code",
   "execution_count": 10,
   "metadata": {
    "collapsed": true
   },
   "outputs": [],
   "source": [
    "import Test.QuickCheck"
   ]
  },
  {
   "cell_type": "code",
   "execution_count": 11,
   "metadata": {
    "collapsed": false
   },
   "outputs": [],
   "source": [
    "testBSTSequences :: [Int] -> Bool\n",
    "testBSTSequences xs =\n",
    "    all ((== bst) . makeBST) $ bstSequences bst\n",
    "        where\n",
    "            bst = makeBST xs"
   ]
  },
  {
   "cell_type": "code",
   "execution_count": 12,
   "metadata": {
    "collapsed": false
   },
   "outputs": [
    {
     "data": {
      "text/plain": [
       "+++ OK, passed 100 tests."
      ]
     },
     "metadata": {},
     "output_type": "display_data"
    }
   ],
   "source": [
    "quickCheckWith stdArgs { maxSize = 15 } testBSTSequences"
   ]
  }
 ],
 "metadata": {
  "kernelspec": {
   "display_name": "Haskell",
   "language": "haskell",
   "name": "haskell"
  },
  "language_info": {
   "codemirror_mode": "ihaskell",
   "file_extension": ".hs",
   "name": "haskell",
   "version": "7.10.2"
  }
 },
 "nbformat": 4,
 "nbformat_minor": 0
}
