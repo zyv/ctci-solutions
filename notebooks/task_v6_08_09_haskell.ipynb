{
 "cells": [
  {
   "cell_type": "markdown",
   "metadata": {},
   "source": [
    "# Parens"
   ]
  },
  {
   "cell_type": "markdown",
   "metadata": {},
   "source": [
    "## Implementation"
   ]
  },
  {
   "cell_type": "code",
   "execution_count": 1,
   "metadata": {
    "collapsed": true
   },
   "outputs": [],
   "source": [
    "parensGen :: Int -> Int -> String -> [String]\n",
    "parensGen 0 0 s = [ s ]\n",
    "parensGen (-1) _ _ = []\n",
    "parensGen _ (-1) _ = []\n",
    "parensGen closedCount openCount suffix =\n",
    "    parensGen (closedCount - 1) (openCount + 1) (')' : suffix) ++\n",
    "    parensGen closedCount (openCount - 1) ('(' : suffix)"
   ]
  },
  {
   "cell_type": "code",
   "execution_count": 2,
   "metadata": {
    "collapsed": false
   },
   "outputs": [],
   "source": [
    "parensGen' :: Int -> Int -> String -> [String]\n",
    "parensGen' 0 0 s = [ s ]\n",
    "parensGen' (-1) _ _ = []\n",
    "parensGen' _ (-1) _ = []\n",
    "parensGen' openCount closedCount prefix =\n",
    "    parensGen' (openCount - 1) (closedCount + 1) (prefix ++ \"(\") ++\n",
    "    parensGen' openCount (closedCount - 1) (prefix ++ \")\")"
   ]
  },
  {
   "cell_type": "code",
   "execution_count": 3,
   "metadata": {
    "collapsed": true
   },
   "outputs": [],
   "source": [
    "import Numeric.Natural"
   ]
  },
  {
   "cell_type": "code",
   "execution_count": 4,
   "metadata": {
    "collapsed": false
   },
   "outputs": [],
   "source": [
    "makeParens :: Natural -> [String]\n",
    "makeParens x = parensGen (fromIntegral x) 0 \"\"\n",
    "\n",
    "makeParens' :: Natural -> [String]\n",
    "makeParens' x = parensGen' (fromIntegral x) 0 \"\""
   ]
  },
  {
   "cell_type": "code",
   "execution_count": 5,
   "metadata": {
    "collapsed": false
   },
   "outputs": [
    {
     "data": {
      "text/plain": [
       "[\"((()))\",\"(()())\",\"()(())\",\"(())()\",\"()()()\"]"
      ]
     },
     "metadata": {},
     "output_type": "display_data"
    },
    {
     "data": {
      "text/plain": [
       "16796"
      ]
     },
     "metadata": {},
     "output_type": "display_data"
    }
   ],
   "source": [
    "makeParens 3\n",
    "length $ makeParens 10"
   ]
  },
  {
   "cell_type": "markdown",
   "metadata": {},
   "source": [
    "## Tests\n",
    "\n",
    "Invariants:\n",
    "* Combinations are valid\n",
    "* Combinations contain requested number of parens\n",
    "* There are no duplicate combinations\n",
    "* The number of combinations matches "
   ]
  },
  {
   "cell_type": "markdown",
   "metadata": {},
   "source": [
    "### Stack-based validator"
   ]
  },
  {
   "cell_type": "code",
   "execution_count": 6,
   "metadata": {
    "collapsed": true
   },
   "outputs": [],
   "source": [
    "validCombo :: String -> String -> Bool\n",
    "validCombo \"\" \"\" = True\n",
    "validCombo \"\" _ = False\n",
    "validCombo (')':xs) ('(':ys) = validCombo xs ys\n",
    "validCombo (x:xs) ys = validCombo xs (x:ys)"
   ]
  },
  {
   "cell_type": "code",
   "execution_count": 7,
   "metadata": {
    "collapsed": true
   },
   "outputs": [],
   "source": [
    "checkParens :: String -> Bool\n",
    "checkParens xs = validCombo xs \"\""
   ]
  },
  {
   "cell_type": "markdown",
   "metadata": {},
   "source": [
    "### Counter-based validator"
   ]
  },
  {
   "cell_type": "code",
   "execution_count": 8,
   "metadata": {
    "collapsed": false
   },
   "outputs": [],
   "source": [
    "validCombo' :: String -> Int -> Bool\n",
    "validCombo' \"\" 0 = True\n",
    "validCombo' _ (-1) = False\n",
    "validCombo' ('(':xs) count = validCombo' xs (succ count)\n",
    "validCombo' (')':xs) count = validCombo' xs (pred count)\n",
    "validCombo' _ _ = False"
   ]
  },
  {
   "cell_type": "code",
   "execution_count": 9,
   "metadata": {
    "collapsed": false
   },
   "outputs": [],
   "source": [
    "checkParens' :: String -> Bool\n",
    "checkParens' xs = validCombo' xs 0"
   ]
  },
  {
   "cell_type": "code",
   "execution_count": 10,
   "metadata": {
    "collapsed": false
   },
   "outputs": [
    {
     "data": {
      "text/plain": [
       "True"
      ]
     },
     "metadata": {},
     "output_type": "display_data"
    },
    {
     "data": {
      "text/plain": [
       "False"
      ]
     },
     "metadata": {},
     "output_type": "display_data"
    },
    {
     "data": {
      "text/plain": [
       "False"
      ]
     },
     "metadata": {},
     "output_type": "display_data"
    },
    {
     "data": {
      "text/plain": [
       "False"
      ]
     },
     "metadata": {},
     "output_type": "display_data"
    }
   ],
   "source": [
    "checkParens' \"(())\"\n",
    "checkParens' \"(()))\"\n",
    "checkParens' \"(2)\"\n",
    "checkParens' \"(\""
   ]
  },
  {
   "cell_type": "code",
   "execution_count": 11,
   "metadata": {
    "collapsed": true
   },
   "outputs": [],
   "source": [
    "import Test.QuickCheck"
   ]
  },
  {
   "cell_type": "code",
   "execution_count": 12,
   "metadata": {
    "collapsed": true
   },
   "outputs": [],
   "source": [
    "import Data.List"
   ]
  },
  {
   "cell_type": "markdown",
   "metadata": {},
   "source": [
    "This test covers all but last invariant:"
   ]
  },
  {
   "cell_type": "code",
   "execution_count": 13,
   "metadata": {
    "collapsed": false
   },
   "outputs": [],
   "source": [
    "testValidCombos :: Natural -> Bool\n",
    "testValidCombos n =\n",
    "    let\n",
    "        parens = makeParens n\n",
    "    in\n",
    "        all checkParens parens && \n",
    "        all ((== fromIntegral (2 * n)) . length) parens &&\n",
    "        length parens == (length . nub) parens"
   ]
  },
  {
   "cell_type": "code",
   "execution_count": 14,
   "metadata": {
    "collapsed": false
   },
   "outputs": [
    {
     "data": {
      "text/plain": [
       "+++ OK, passed 100 tests."
      ]
     },
     "metadata": {},
     "output_type": "display_data"
    }
   ],
   "source": [
    "quickCheckWith stdArgs { maxSize = 7 } testValidCombos"
   ]
  },
  {
   "cell_type": "markdown",
   "metadata": {},
   "source": [
    "## Benchmarking"
   ]
  },
  {
   "cell_type": "code",
   "execution_count": 15,
   "metadata": {
    "collapsed": false
   },
   "outputs": [],
   "source": [
    "import System.TimeIt"
   ]
  },
  {
   "cell_type": "markdown",
   "metadata": {},
   "source": [
    "Take note that both implementations are fully lazy, so properly benchmarking them is a bit of a challenge. For instance, in this example, only the first value is ever computed:"
   ]
  },
  {
   "cell_type": "code",
   "execution_count": 16,
   "metadata": {
    "collapsed": false
   },
   "outputs": [
    {
     "data": {
      "text/plain": [
       "\"(((((((((((((())))))))))))))\"\n",
       "CPU time:   0.00s"
      ]
     },
     "metadata": {},
     "output_type": "display_data"
    },
    {
     "data": {
      "text/plain": [
       "\"(((((((((((((())))))))))))))\"\n",
       "CPU time:   0.00s"
      ]
     },
     "metadata": {},
     "output_type": "display_data"
    }
   ],
   "source": [
    "timeIt $ print $ head $ makeParens 14\n",
    "timeIt $ print $ head $ makeParens' 14"
   ]
  },
  {
   "cell_type": "markdown",
   "metadata": {},
   "source": [
    "Even this doesn't really help, because although the number of elements is determined, the elements themselves are not computed, which can lead to very surprising and misleading results:"
   ]
  },
  {
   "cell_type": "code",
   "execution_count": 17,
   "metadata": {
    "collapsed": false
   },
   "outputs": [
    {
     "data": {
      "text/plain": [
       "2674440\n",
       "CPU time:  13.78s"
      ]
     },
     "metadata": {},
     "output_type": "display_data"
    },
    {
     "data": {
      "text/plain": [
       "2674440\n",
       "CPU time:  13.27s"
      ]
     },
     "metadata": {},
     "output_type": "display_data"
    }
   ],
   "source": [
    "timeIt $ print $ length $ makeParens 14\n",
    "timeIt $ print $ length $ makeParens' 14"
   ]
  },
  {
   "cell_type": "markdown",
   "metadata": {},
   "source": [
    "Here, no wonder, `makeParens` performs better than `makeParens'`:"
   ]
  },
  {
   "cell_type": "code",
   "execution_count": 18,
   "metadata": {
    "collapsed": false
   },
   "outputs": [
    {
     "data": {
      "text/plain": [
       "74884320\n",
       "CPU time:  15.00s"
      ]
     },
     "metadata": {},
     "output_type": "display_data"
    },
    {
     "data": {
      "text/plain": [
       "74884320\n",
       "CPU time:  25.55s"
      ]
     },
     "metadata": {},
     "output_type": "display_data"
    }
   ],
   "source": [
    "timeIt $ print $ length $ concat $ makeParens 14\n",
    "timeIt $ print $ length $ concat $ makeParens' 14"
   ]
  }
 ],
 "metadata": {
  "kernelspec": {
   "display_name": "Haskell",
   "language": "haskell",
   "name": "haskell"
  },
  "language_info": {
   "codemirror_mode": "ihaskell",
   "file_extension": ".hs",
   "name": "haskell",
   "version": "7.10.2"
  }
 },
 "nbformat": 4,
 "nbformat_minor": 0
}
