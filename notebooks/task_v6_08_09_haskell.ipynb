{
 "cells": [
  {
   "cell_type": "markdown",
   "metadata": {},
   "source": [
    "# Parens"
   ]
  },
  {
   "cell_type": "code",
   "execution_count": 1,
   "metadata": {
    "collapsed": false
   },
   "outputs": [],
   "source": [
    "parensGen :: Int -> Int -> String -> [String]\n",
    "parensGen 0 0 s = [ s ]\n",
    "parensGen (-1) _ _ = []\n",
    "parensGen _ (-1) _ = []\n",
    "parensGen openCount closedCount prefix =\n",
    "    parensGen (openCount - 1) (closedCount + 1) (prefix ++ \"(\") ++\n",
    "    parensGen openCount (closedCount - 1) (prefix ++ \")\")"
   ]
  },
  {
   "cell_type": "code",
   "execution_count": 2,
   "metadata": {
    "collapsed": true
   },
   "outputs": [],
   "source": [
    "parens :: Int -> [String]\n",
    "parens x = parensGen x 0 \"\""
   ]
  },
  {
   "cell_type": "code",
   "execution_count": 3,
   "metadata": {
    "collapsed": false
   },
   "outputs": [
    {
     "data": {
      "text/plain": [
       "[\"((()))\",\"(()())\",\"(())()\",\"()(())\",\"()()()\"]"
      ]
     },
     "metadata": {},
     "output_type": "display_data"
    }
   ],
   "source": [
    "parens 3"
   ]
  },
  {
   "cell_type": "markdown",
   "metadata": {},
   "source": [
    "Invariants:\n",
    "* Combinations are valid\n",
    "* Combinations contain requested number of parens\n",
    "* There are no duplicate combinations\n",
    "* The number of combinations matches "
   ]
  }
 ],
 "metadata": {
  "kernelspec": {
   "display_name": "Haskell",
   "language": "haskell",
   "name": "haskell"
  },
  "language_info": {
   "codemirror_mode": "ihaskell",
   "file_extension": ".hs",
   "name": "haskell",
   "version": "7.10.2"
  }
 },
 "nbformat": 4,
 "nbformat_minor": 0
}
