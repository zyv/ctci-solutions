{
 "cells": [
  {
   "cell_type": "markdown",
   "metadata": {},
   "source": [
    "# Coins"
   ]
  },
  {
   "cell_type": "markdown",
   "metadata": {},
   "source": [
    "## Implementation"
   ]
  },
  {
   "cell_type": "code",
   "execution_count": 1,
   "metadata": {
    "collapsed": false
   },
   "outputs": [],
   "source": [
    "ways :: Int -> [Int] -> Int\n",
    "ways _ [] = 0\n",
    "ways 0 _ = 1\n",
    "ways amount coins\n",
    "    | amount < 0 = 0\n",
    "    | otherwise =\n",
    "        ways (amount - head coins) coins +\n",
    "        ways amount (tail coins)"
   ]
  },
  {
   "cell_type": "code",
   "execution_count": 2,
   "metadata": {
    "collapsed": false
   },
   "outputs": [
    {
     "data": {
      "text/plain": [
       "4"
      ]
     },
     "metadata": {},
     "output_type": "display_data"
    }
   ],
   "source": [
    "ways 10 [50, 25, 10, 5, 1]"
   ]
  },
  {
   "cell_type": "markdown",
   "metadata": {},
   "source": [
    "## Tests"
   ]
  },
  {
   "cell_type": "code",
   "execution_count": 3,
   "metadata": {
    "collapsed": true
   },
   "outputs": [],
   "source": [
    "import Data.List"
   ]
  },
  {
   "cell_type": "code",
   "execution_count": 4,
   "metadata": {
    "collapsed": false
   },
   "outputs": [],
   "source": [
    "combosGen :: Int -> [Int] -> [[Int]]\n",
    "combosGen 0 _ = [[]]\n",
    "combosGen _ [] = [[]]\n",
    "combosGen amount coins =\n",
    "    let\n",
    "        allCoins = concatMap (\\x -> replicate (amount `div` x) x) coins\n",
    "    in\n",
    "        nub $ subsequences allCoins"
   ]
  },
  {
   "cell_type": "code",
   "execution_count": 5,
   "metadata": {
    "collapsed": false
   },
   "outputs": [
    {
     "data": {
      "text/plain": [
       "[[5,2],[2,2,2,1],[5,1,1],[2,2,1,1,1],[2,1,1,1,1,1],[1,1,1,1,1,1,1]]"
      ]
     },
     "metadata": {},
     "output_type": "display_data"
    }
   ],
   "source": [
    "filter ((== 7) . sum) $ combosGen 7 [5, 2, 1]"
   ]
  },
  {
   "cell_type": "code",
   "execution_count": 6,
   "metadata": {
    "collapsed": false
   },
   "outputs": [],
   "source": [
    "ways' :: Int -> [Int] -> Int\n",
    "ways' _ [] = 0\n",
    "ways' 0 _ = 1\n",
    "ways' amount coins\n",
    "    | amount < 0 = 0\n",
    "    | otherwise = length $ filter ((== amount) . sum) $ combosGen amount coins            "
   ]
  },
  {
   "cell_type": "code",
   "execution_count": 7,
   "metadata": {
    "collapsed": false
   },
   "outputs": [
    {
     "data": {
      "text/plain": [
       "4"
      ]
     },
     "metadata": {},
     "output_type": "display_data"
    }
   ],
   "source": [
    "ways' 10 [50, 25, 10, 5, 1]"
   ]
  }
 ],
 "metadata": {
  "kernelspec": {
   "display_name": "Haskell",
   "language": "haskell",
   "name": "haskell"
  },
  "language_info": {
   "codemirror_mode": "ihaskell",
   "file_extension": ".hs",
   "name": "haskell",
   "version": "7.10.2"
  }
 },
 "nbformat": 4,
 "nbformat_minor": 0
}
