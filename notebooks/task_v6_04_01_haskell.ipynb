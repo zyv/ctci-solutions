{
 "cells": [
  {
   "cell_type": "markdown",
   "metadata": {},
   "source": [
    "# Route Between Nodes"
   ]
  },
  {
   "cell_type": "code",
   "execution_count": 1,
   "metadata": {
    "collapsed": true
   },
   "outputs": [],
   "source": [
    "import qualified Data.Graph as G\n",
    "import qualified Data.Array as A\n",
    "import qualified Data.Sequence as S\n",
    "import qualified Data.IntSet as I"
   ]
  },
  {
   "cell_type": "code",
   "execution_count": 2,
   "metadata": {
    "collapsed": false
   },
   "outputs": [],
   "source": [
    "path :: G.Graph -> G.Vertex -> G.Vertex -> Bool\n",
    "path g src dst\n",
    "    | src == dst = True\n",
    "    | otherwise = dfs (I.singleton src) (S.singleton src)\n",
    "    where\n",
    "        dfs :: I.IntSet -> S.Seq G.Vertex -> Bool\n",
    "        dfs seen queue\n",
    "            | S.null queue = False\n",
    "            | dst `elem` unseen = True\n",
    "            | otherwise = dfs seen' queue'\n",
    "            where\n",
    "                (current, remaining) = (S.index queue 0, S.drop 1 queue)\n",
    "                unseen = filter (`I.notMember` seen) $ g A.! current\n",
    "                seen' = seen `I.union` I.fromList unseen\n",
    "                queue' = remaining S.>< S.fromList unseen"
   ]
  },
  {
   "cell_type": "markdown",
   "metadata": {},
   "source": [
    "## Tests"
   ]
  },
  {
   "cell_type": "code",
   "execution_count": 3,
   "metadata": {
    "collapsed": true
   },
   "outputs": [],
   "source": [
    "import Test.QuickCheck"
   ]
  },
  {
   "cell_type": "code",
   "execution_count": 4,
   "metadata": {
    "collapsed": false
   },
   "outputs": [],
   "source": [
    "testPath :: [(G.Vertex, G.Vertex)] -> Bool\n",
    "testPath [] = path g single single == G.path g single single\n",
    "    where\n",
    "        single = 1\n",
    "        g = G.buildG (single, single) []\n",
    "testPath edges = and [ path g x y == G.path g x y | x <- G.vertices g, y <- G.vertices g]\n",
    "    where\n",
    "        bounds = (minimum (map (uncurry min) edges), maximum (map (uncurry max) edges))\n",
    "        g = G.buildG bounds edges"
   ]
  },
  {
   "cell_type": "code",
   "execution_count": 5,
   "metadata": {
    "collapsed": false
   },
   "outputs": [
    {
     "data": {
      "text/plain": [
       "+++ OK, passed 100 tests."
      ]
     },
     "metadata": {},
     "output_type": "display_data"
    }
   ],
   "source": [
    "quickCheck testPath"
   ]
  }
 ],
 "metadata": {
  "kernelspec": {
   "display_name": "Haskell",
   "language": "haskell",
   "name": "haskell"
  },
  "language_info": {
   "codemirror_mode": "ihaskell",
   "file_extension": ".hs",
   "name": "haskell",
   "version": "7.10.2"
  }
 },
 "nbformat": 4,
 "nbformat_minor": 0
}
