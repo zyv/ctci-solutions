{
 "cells": [
  {
   "cell_type": "markdown",
   "metadata": {},
   "source": [
    "# Sort Stack"
   ]
  },
  {
   "cell_type": "code",
   "execution_count": 1,
   "metadata": {
    "collapsed": true
   },
   "outputs": [],
   "source": [
    "import Data.List (foldl')"
   ]
  },
  {
   "cell_type": "code",
   "execution_count": 2,
   "metadata": {
    "collapsed": true
   },
   "outputs": [],
   "source": [
    "{-# LANGUAGE ScopedTypeVariables #-}"
   ]
  },
  {
   "cell_type": "code",
   "execution_count": 3,
   "metadata": {
    "collapsed": false
   },
   "outputs": [],
   "source": [
    "sortStack :: forall a. Ord a => [a] -> [a]\n",
    "sortStack [] = []\n",
    "sortStack (a:as) = (r:esult)\n",
    "    where\n",
    "        moveStack :: [a] -> [a] -> [a]\n",
    "        moveStack = foldl' (flip (:))\n",
    "\n",
    "        sortStack' :: ([a], [a], a, Int) -> Maybe Int -> ([a], [a], a, Int)\n",
    "\n",
    "        sortStack' ([], ys, e, depth) Nothing\n",
    "            | depth /= 0 = sortStack' (eft, [], l, 0) $ Just (pred depth)\n",
    "            | otherwise = (eft, [], l, depth)\n",
    "            where\n",
    "                (l:eft) = moveStack [] (e:ys)\n",
    "\n",
    "        sortStack' (xs, [], e, depth) (Just 0) = (xs, [], e, depth)\n",
    "        \n",
    "        sortStack' (x:xs, ys, e, depth) limit\n",
    "            | maybe False (depth >=) limit =\n",
    "                let \n",
    "                    (l:eft) = moveStack (e:x:xs) ys \n",
    "                in\n",
    "                    sortStack' (eft, [], l, 0) $ fmap pred limit\n",
    "            | x > e =\n",
    "                sortStack' (xs, e:ys, x, succ depth) limit\n",
    "            | otherwise =\n",
    "                sortStack' (xs, x:ys, e, succ depth) limit\n",
    "                \n",
    "        (esult, _, r, _) = sortStack' (as, [], a, 0) Nothing"
   ]
  },
  {
   "cell_type": "code",
   "execution_count": 4,
   "metadata": {
    "collapsed": false
   },
   "outputs": [
    {
     "data": {
      "text/plain": [
       "[]"
      ]
     },
     "metadata": {},
     "output_type": "display_data"
    },
    {
     "data": {
      "text/plain": [
       "[1]"
      ]
     },
     "metadata": {},
     "output_type": "display_data"
    },
    {
     "data": {
      "text/plain": [
       "[1,2]"
      ]
     },
     "metadata": {},
     "output_type": "display_data"
    },
    {
     "data": {
      "text/plain": [
       "[1,2,3]"
      ]
     },
     "metadata": {},
     "output_type": "display_data"
    }
   ],
   "source": [
    "sortStack []\n",
    "sortStack [1]\n",
    "sortStack [2, 1]\n",
    "sortStack [3, 2, 1]"
   ]
  },
  {
   "cell_type": "markdown",
   "metadata": {},
   "source": [
    "## Tests"
   ]
  },
  {
   "cell_type": "code",
   "execution_count": 5,
   "metadata": {
    "collapsed": true
   },
   "outputs": [],
   "source": [
    "import Test.QuickCheck"
   ]
  },
  {
   "cell_type": "code",
   "execution_count": 6,
   "metadata": {
    "collapsed": true
   },
   "outputs": [],
   "source": [
    "import Data.List (sort)"
   ]
  },
  {
   "cell_type": "code",
   "execution_count": 7,
   "metadata": {
    "collapsed": false
   },
   "outputs": [],
   "source": [
    "testSortStack :: [Int] -> Bool\n",
    "testSortStack xs =\n",
    "    sort xs == sortStack xs"
   ]
  },
  {
   "cell_type": "code",
   "execution_count": 8,
   "metadata": {
    "collapsed": false
   },
   "outputs": [
    {
     "data": {
      "text/plain": [
       "+++ OK, passed 100 tests."
      ]
     },
     "metadata": {},
     "output_type": "display_data"
    }
   ],
   "source": [
    "quickCheck testSortStack"
   ]
  }
 ],
 "metadata": {
  "kernelspec": {
   "display_name": "Haskell",
   "language": "haskell",
   "name": "haskell"
  },
  "language_info": {
   "codemirror_mode": "ihaskell",
   "file_extension": ".hs",
   "name": "haskell",
   "version": "7.10.2"
  }
 },
 "nbformat": 4,
 "nbformat_minor": 0
}
