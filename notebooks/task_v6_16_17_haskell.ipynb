{
 "cells": [
  {
   "cell_type": "markdown",
   "metadata": {},
   "source": [
    "# Contiguous Sequence"
   ]
  },
  {
   "cell_type": "code",
   "execution_count": 1,
   "metadata": {
    "collapsed": true
   },
   "outputs": [],
   "source": [
    "import Data.List"
   ]
  },
  {
   "cell_type": "code",
   "execution_count": 2,
   "metadata": {
    "collapsed": false
   },
   "outputs": [],
   "source": [
    "contiguousSequence :: (Ord a, Num a) => [a] -> a\n",
    "contiguousSequence xs =\n",
    "    let computeState :: (Ord a, Num a) => (a, a) -> a -> (a, a)\n",
    "        computeState (best, current) x = (max best newCurrent, max newCurrent 0)\n",
    "            where newCurrent = current + x\n",
    "    in fst $ foldl' computeState (0, 0) xs"
   ]
  },
  {
   "cell_type": "code",
   "execution_count": 3,
   "metadata": {
    "collapsed": false
   },
   "outputs": [
    {
     "data": {
      "text/plain": [
       "5"
      ]
     },
     "metadata": {},
     "output_type": "display_data"
    }
   ],
   "source": [
    "contiguousSequence [2, -8, 3, -2, 4, -10]"
   ]
  },
  {
   "cell_type": "code",
   "execution_count": 4,
   "metadata": {
    "collapsed": true
   },
   "outputs": [],
   "source": [
    "import Test.QuickCheck"
   ]
  },
  {
   "cell_type": "code",
   "execution_count": 5,
   "metadata": {
    "collapsed": false
   },
   "outputs": [],
   "source": [
    "contiguousSequence' :: (Ord a, Num a) => [a] -> a\n",
    "contiguousSequence' [] = 0\n",
    "contiguousSequence' xs =\n",
    "    maximum $ map sum $ filter (not . null) $ filter (`isInfixOf` xs) $ subsequences xs"
   ]
  },
  {
   "cell_type": "code",
   "execution_count": 6,
   "metadata": {
    "collapsed": false
   },
   "outputs": [],
   "source": [
    "testContiguousSequence :: (Ord a, Num a) => [a] -> Bool\n",
    "testContiguousSequence xs =\n",
    "    contiguousSequence xs == contiguousSequence' xs"
   ]
  },
  {
   "cell_type": "code",
   "execution_count": 7,
   "metadata": {
    "collapsed": false,
    "scrolled": true
   },
   "outputs": [
    {
     "data": {
      "text/plain": [
       "*** Failed! Falsifiable (after 30 tests and 2 shrinks): \n",
       "[-1]"
      ]
     },
     "metadata": {},
     "output_type": "display_data"
    }
   ],
   "source": [
    "quickCheckWith stdArgs { maxSize = 5 } testContiguousSequence"
   ]
  }
 ],
 "metadata": {
  "kernelspec": {
   "display_name": "Haskell",
   "language": "haskell",
   "name": "haskell"
  },
  "language_info": {
   "codemirror_mode": "ihaskell",
   "file_extension": ".hs",
   "name": "haskell",
   "version": "7.10.2"
  }
 },
 "nbformat": 4,
 "nbformat_minor": 0
}
