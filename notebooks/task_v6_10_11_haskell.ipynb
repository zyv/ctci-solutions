{
 "cells": [
  {
   "cell_type": "markdown",
   "metadata": {},
   "source": [
    "# Peaks and Valleys"
   ]
  },
  {
   "cell_type": "code",
   "execution_count": 1,
   "metadata": {
    "collapsed": true
   },
   "outputs": [],
   "source": [
    "import Data.List (sort)"
   ]
  },
  {
   "cell_type": "code",
   "execution_count": 2,
   "metadata": {
    "collapsed": false
   },
   "outputs": [],
   "source": [
    "peaksAndValleys :: Ord a => [a] -> [a]\n",
    "peaksAndValleys =\n",
    "    let \n",
    "        swapPairs :: [b] -> [b]\n",
    "        swapPairs (y1:y2:ys) = y2 : y1 : swapPairs ys\n",
    "        swapPairs ys = ys\n",
    "    in\n",
    "        swapPairs . sort"
   ]
  },
  {
   "cell_type": "code",
   "execution_count": 3,
   "metadata": {
    "collapsed": false
   },
   "outputs": [],
   "source": [
    "peaksAndValleys' :: Ord a => [a] -> [a]\n",
    "peaksAndValleys' =\n",
    "    let\n",
    "        sortFirst :: Ord b => [b] -> [b]\n",
    "        sortFirst [y1, y2, y3]\n",
    "            | y1 < y2 = [y1, y2, y3]\n",
    "            | otherwise = [y2, y1, y3]\n",
    "\n",
    "        sortLast :: Ord b => [b] -> [b]\n",
    "        sortLast [y1, y2, y3]\n",
    "            | y2 < y3 = [y1, y2, y3]\n",
    "            | otherwise = [y1, y3, y2]\n",
    "\n",
    "        sortTriple = sortFirst . sortLast . sortFirst\n",
    "\n",
    "        reorderElems :: Ord b => [b] -> [b]\n",
    "        reorderElems (y1:y2:y3:ys) =\n",
    "            let\n",
    "                [smallest, middle, largest] = sortTriple [y1, y2, y3]\n",
    "            in\n",
    "                largest : smallest : reorderElems (middle:ys)\n",
    "                \n",
    "        reorderElems [y1, y2] = [max y1 y2, min y1 y2]\n",
    "\n",
    "        reorderElems [y] = [y]\n",
    "        reorderElems [] = []\n",
    "        \n",
    "    in\n",
    "        reorderElems"
   ]
  },
  {
   "cell_type": "markdown",
   "metadata": {},
   "source": [
    "## Tests"
   ]
  },
  {
   "cell_type": "code",
   "execution_count": 4,
   "metadata": {
    "collapsed": true
   },
   "outputs": [],
   "source": [
    "import Test.QuickCheck"
   ]
  },
  {
   "cell_type": "code",
   "execution_count": 5,
   "metadata": {
    "collapsed": false
   },
   "outputs": [],
   "source": [
    "isAlternatingSequence :: Ord a => [a] -> Bool\n",
    "isAlternatingSequence xs =\n",
    "    let\n",
    "        startsWithPeak :: Ord b => [b] -> Bool\n",
    "        startsWithPeak (y1:y2:ys) = y1 >= y2 && startsWithValley (y2:ys)\n",
    "        startsWithPeak _ = True\n",
    "        \n",
    "        startsWithValley :: Ord b => [b] -> Bool\n",
    "        startsWithValley (y1:y2:ys) = y1 <= y2 && startsWithPeak (y2:ys)\n",
    "        startsWithValley _ = True\n",
    "    in\n",
    "        startsWithPeak xs || startsWithValley xs"
   ]
  },
  {
   "cell_type": "code",
   "execution_count": 6,
   "metadata": {
    "collapsed": false
   },
   "outputs": [
    {
     "data": {
      "text/plain": [
       "False"
      ]
     },
     "metadata": {},
     "output_type": "display_data"
    },
    {
     "data": {
      "text/plain": [
       "True"
      ]
     },
     "metadata": {},
     "output_type": "display_data"
    }
   ],
   "source": [
    "isAlternatingSequence [5, 3, 1, 2, 3]\n",
    "isAlternatingSequence [5, 1, 3, 2, 3]"
   ]
  },
  {
   "cell_type": "code",
   "execution_count": 7,
   "metadata": {
    "collapsed": false
   },
   "outputs": [],
   "source": [
    "testPeaksAndValleys :: ([Int] -> [Int]) -> [Int] -> Bool\n",
    "testPeaksAndValleys f xs =\n",
    "    let\n",
    "        xs' = f xs\n",
    "    in\n",
    "        isAlternatingSequence xs' && sort xs == sort xs'"
   ]
  },
  {
   "cell_type": "code",
   "execution_count": 8,
   "metadata": {
    "collapsed": false
   },
   "outputs": [
    {
     "data": {
      "text/plain": [
       "+++ OK, passed 100 tests."
      ]
     },
     "metadata": {},
     "output_type": "display_data"
    }
   ],
   "source": [
    "quickCheck $ testPeaksAndValleys peaksAndValleys"
   ]
  },
  {
   "cell_type": "code",
   "execution_count": 9,
   "metadata": {
    "collapsed": false
   },
   "outputs": [
    {
     "data": {
      "text/plain": [
       "+++ OK, passed 100 tests."
      ]
     },
     "metadata": {},
     "output_type": "display_data"
    }
   ],
   "source": [
    "quickCheck $ testPeaksAndValleys peaksAndValleys'"
   ]
  }
 ],
 "metadata": {
  "kernelspec": {
   "display_name": "Haskell",
   "language": "haskell",
   "name": "haskell"
  },
  "language_info": {
   "codemirror_mode": "ihaskell",
   "file_extension": ".hs",
   "name": "haskell",
   "version": "7.10.2"
  }
 },
 "nbformat": 4,
 "nbformat_minor": 0
}
