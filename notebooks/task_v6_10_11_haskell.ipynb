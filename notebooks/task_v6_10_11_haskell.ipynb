{
 "cells": [
  {
   "cell_type": "markdown",
   "metadata": {},
   "source": [
    "# Peaks and Valleys"
   ]
  },
  {
   "cell_type": "code",
   "execution_count": 1,
   "metadata": {
    "collapsed": true
   },
   "outputs": [],
   "source": [
    "import Data.List (sort)"
   ]
  },
  {
   "cell_type": "code",
   "execution_count": 2,
   "metadata": {
    "collapsed": false
   },
   "outputs": [],
   "source": [
    "peaksAndValleys :: Ord a => [a] -> [a]\n",
    "peaksAndValleys xs =\n",
    "    let \n",
    "        swapPairs :: [b] -> [b]\n",
    "        swapPairs (y1:y2:ys) = y2 : y1 : swapPairs ys\n",
    "        swapPairs ys = ys\n",
    "    in\n",
    "        swapPairs $ sort xs"
   ]
  },
  {
   "cell_type": "markdown",
   "metadata": {},
   "source": [
    "## Tests"
   ]
  },
  {
   "cell_type": "code",
   "execution_count": 3,
   "metadata": {
    "collapsed": true
   },
   "outputs": [],
   "source": [
    "import Test.QuickCheck"
   ]
  },
  {
   "cell_type": "code",
   "execution_count": 4,
   "metadata": {
    "collapsed": false
   },
   "outputs": [],
   "source": [
    "isAlternatingSequence :: Ord a => [a] -> Bool\n",
    "isAlternatingSequence xs =\n",
    "    let\n",
    "        startsWithPeak :: Ord b => [b] -> Bool\n",
    "        startsWithPeak (y1:y2:ys) = y1 >= y2 && startsWithValley (y2:ys)\n",
    "        startsWithPeak _ = True\n",
    "        \n",
    "        startsWithValley :: Ord b => [b] -> Bool\n",
    "        startsWithValley (y1:y2:ys) = y1 <= y2 && startsWithPeak (y2:ys)\n",
    "        startsWithValley _ = True\n",
    "    in\n",
    "        startsWithPeak xs || startsWithValley xs"
   ]
  },
  {
   "cell_type": "code",
   "execution_count": 5,
   "metadata": {
    "collapsed": false
   },
   "outputs": [
    {
     "data": {
      "text/plain": [
       "False"
      ]
     },
     "metadata": {},
     "output_type": "display_data"
    },
    {
     "data": {
      "text/plain": [
       "True"
      ]
     },
     "metadata": {},
     "output_type": "display_data"
    }
   ],
   "source": [
    "isAlternatingSequence [5, 3, 1, 2, 3]\n",
    "isAlternatingSequence [5, 1, 3, 2, 3]"
   ]
  },
  {
   "cell_type": "code",
   "execution_count": 6,
   "metadata": {
    "collapsed": false
   },
   "outputs": [],
   "source": [
    "testPeaksAndValleys :: [Int] -> Bool\n",
    "testPeaksAndValleys xs =\n",
    "    let\n",
    "        xs' = peaksAndValleys xs\n",
    "    in\n",
    "        isAlternatingSequence xs' && sort xs == sort xs'"
   ]
  },
  {
   "cell_type": "code",
   "execution_count": 7,
   "metadata": {
    "collapsed": false
   },
   "outputs": [
    {
     "data": {
      "text/plain": [
       "+++ OK, passed 100 tests."
      ]
     },
     "metadata": {},
     "output_type": "display_data"
    }
   ],
   "source": [
    "quickCheck testPeaksAndValleys"
   ]
  }
 ],
 "metadata": {
  "kernelspec": {
   "display_name": "Haskell",
   "language": "haskell",
   "name": "haskell"
  },
  "language_info": {
   "codemirror_mode": "ihaskell",
   "file_extension": ".hs",
   "name": "haskell",
   "version": "7.10.2"
  }
 },
 "nbformat": 4,
 "nbformat_minor": 0
}
