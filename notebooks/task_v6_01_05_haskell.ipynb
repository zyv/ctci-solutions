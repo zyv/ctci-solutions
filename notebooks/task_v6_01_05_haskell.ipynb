{
 "cells": [
  {
   "cell_type": "markdown",
   "metadata": {},
   "source": [
    "# One Away"
   ]
  },
  {
   "cell_type": "code",
   "execution_count": 1,
   "metadata": {
    "collapsed": true
   },
   "outputs": [],
   "source": [
    "oneAway :: String -> String -> Bool\n",
    "oneAway \"\" \"\" = True\n",
    "oneAway (x:xs) (y:ys)\n",
    "    | x == y = oneAway xs ys\n",
    "    | otherwise = xs == ys || (x:xs) == ys || xs == (y:ys)\n",
    "oneAway \"\" [ys] = True\n",
    "oneAway [xs] \"\" = True\n",
    "oneAway _ _ = False"
   ]
  },
  {
   "cell_type": "code",
   "execution_count": 2,
   "metadata": {
    "collapsed": false
   },
   "outputs": [
    {
     "data": {
      "text/plain": [
       "[True,True,True,False]"
      ]
     },
     "metadata": {},
     "output_type": "display_data"
    }
   ],
   "source": [
    "map (uncurry oneAway) [ (\"pale\", \"ple\")\n",
    "                      , (\"pales\", \"pale\")\n",
    "                      , (\"pale\", \"bale\")\n",
    "                      , (\"pale\", \"bake\")\n",
    "                      ]"
   ]
  },
  {
   "cell_type": "markdown",
   "metadata": {},
   "source": [
    "## Tests"
   ]
  },
  {
   "cell_type": "code",
   "execution_count": 3,
   "metadata": {
    "collapsed": true
   },
   "outputs": [],
   "source": [
    "data Edit = Remove | Insert Char | Replace Char deriving (Show)"
   ]
  },
  {
   "cell_type": "code",
   "execution_count": 4,
   "metadata": {
    "collapsed": false
   },
   "outputs": [],
   "source": [
    "applyEdit :: String -> Int -> Edit -> String\n",
    "applyEdit \"\" _ (Insert c) = [c]\n",
    "applyEdit \"\" _ _ = \"\"\n",
    "applyEdit xs n edit =\n",
    "    case edit of\n",
    "        Remove -> ys ++ tail zs\n",
    "        (Insert c) -> ys ++ c:zs\n",
    "        (Replace c) -> ys ++ c:tail zs\n",
    "    where\n",
    "        n' = n `mod` length xs\n",
    "        (ys, zs) = splitAt n' xs"
   ]
  },
  {
   "cell_type": "code",
   "execution_count": 5,
   "metadata": {
    "collapsed": false
   },
   "outputs": [
    {
     "data": {
      "text/plain": [
       "\"ab\""
      ]
     },
     "metadata": {},
     "output_type": "display_data"
    },
    {
     "data": {
      "text/plain": [
       "\"azbc\""
      ]
     },
     "metadata": {},
     "output_type": "display_data"
    },
    {
     "data": {
      "text/plain": [
       "\"abq\""
      ]
     },
     "metadata": {},
     "output_type": "display_data"
    }
   ],
   "source": [
    "applyEdit \"abc\" (-1) Remove\n",
    "applyEdit \"abc\" (-2) (Insert 'z')\n",
    "applyEdit \"abc\" 2 (Replace 'q')"
   ]
  },
  {
   "cell_type": "code",
   "execution_count": 6,
   "metadata": {
    "collapsed": true
   },
   "outputs": [],
   "source": [
    "import Test.QuickCheck"
   ]
  },
  {
   "cell_type": "code",
   "execution_count": 7,
   "metadata": {
    "collapsed": false
   },
   "outputs": [],
   "source": [
    "import Control.Applicative"
   ]
  },
  {
   "cell_type": "code",
   "execution_count": 8,
   "metadata": {
    "collapsed": false
   },
   "outputs": [],
   "source": [
    "instance Arbitrary Edit where\n",
    "    arbitrary = oneof [ elements [Remove]\n",
    "                      , Insert <$> (arbitrary :: Gen Char)\n",
    "                      , Replace <$> (arbitrary :: Gen Char)\n",
    "                      ]"
   ]
  },
  {
   "cell_type": "markdown",
   "metadata": {
    "collapsed": true
   },
   "source": [
    "Unfortunately, the following test doesn't check the last invariant, and, specifically, when the strings are two or more edits away, `oneAway` must return `False`. This invariant is not trivial to check, because if one arbitrary generates multiple `Edit`s, they might end up compensating each other, or be collapsible into one `Edit`.\n",
    "\n",
    "Apparently, it is not possible to evaluate the consequences of edits without knowing at least the length of the string, and then one would need to see if resulting strings are equal and/or the difference can be expressed as one edit. For now, we decided to leave this up to future generations."
   ]
  },
  {
   "cell_type": "code",
   "execution_count": 9,
   "metadata": {
    "collapsed": false
   },
   "outputs": [],
   "source": [
    "testOneAway :: (String, Int, Edit) -> Bool\n",
    "testOneAway (xs, n, edit) =\n",
    "    oneAway xs xs &&\n",
    "    oneAway xs (applyEdit xs n edit)"
   ]
  },
  {
   "cell_type": "code",
   "execution_count": 10,
   "metadata": {
    "collapsed": false
   },
   "outputs": [
    {
     "data": {
      "text/plain": [
       "+++ OK, passed 100 tests."
      ]
     },
     "metadata": {},
     "output_type": "display_data"
    }
   ],
   "source": [
    "quickCheck testOneAway"
   ]
  }
 ],
 "metadata": {
  "kernelspec": {
   "display_name": "Haskell",
   "language": "haskell",
   "name": "haskell"
  },
  "language_info": {
   "codemirror_mode": "ihaskell",
   "file_extension": ".hs",
   "name": "haskell",
   "version": "7.10.2"
  }
 },
 "nbformat": 4,
 "nbformat_minor": 0
}
