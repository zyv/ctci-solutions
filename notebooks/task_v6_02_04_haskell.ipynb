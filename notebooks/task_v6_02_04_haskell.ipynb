{
 "cells": [
  {
   "cell_type": "markdown",
   "metadata": {},
   "source": [
    "# Partition"
   ]
  },
  {
   "cell_type": "code",
   "execution_count": 1,
   "metadata": {
    "collapsed": true
   },
   "outputs": [],
   "source": [
    "import Data.List (foldl')"
   ]
  },
  {
   "cell_type": "markdown",
   "metadata": {},
   "source": [
    "This implementation should be ~O(2N):"
   ]
  },
  {
   "cell_type": "code",
   "execution_count": 2,
   "metadata": {
    "collapsed": true
   },
   "outputs": [],
   "source": [
    "partition :: (Ord a) => [a] -> a -> [a]\n",
    "partition xs pivot =\n",
    "    [ x | x <- xs, x < pivot] ++ [ x | x <- xs, x >= pivot]"
   ]
  },
  {
   "cell_type": "markdown",
   "metadata": {},
   "source": [
    "This implementation should be ~O(N):"
   ]
  },
  {
   "cell_type": "code",
   "execution_count": 3,
   "metadata": {
    "collapsed": false
   },
   "outputs": [],
   "source": [
    "partition' :: (Ord a) => [a] -> a -> [a]\n",
    "partition' xs pivot =\n",
    "    let\n",
    "        computeState (left, right) x =\n",
    "            if x < pivot then\n",
    "                (x : left , right)\n",
    "            else\n",
    "                (left, x : right)\n",
    "    in\n",
    "        uncurry (++) $ foldl' computeState ([], []) xs"
   ]
  },
  {
   "cell_type": "code",
   "execution_count": 4,
   "metadata": {
    "collapsed": false
   },
   "outputs": [
    {
     "data": {
      "text/plain": [
       "[3,2,1,5,8,5,10]"
      ]
     },
     "metadata": {},
     "output_type": "display_data"
    },
    {
     "data": {
      "text/plain": [
       "[1,2,3,10,5,8,5]"
      ]
     },
     "metadata": {},
     "output_type": "display_data"
    }
   ],
   "source": [
    "partition [3, 5, 8, 5, 10, 2, 1] 5\n",
    "partition' [3, 5, 8, 5, 10, 2, 1] 5"
   ]
  },
  {
   "cell_type": "markdown",
   "metadata": {},
   "source": [
    "## Benchmarks"
   ]
  },
  {
   "cell_type": "code",
   "execution_count": 5,
   "metadata": {
    "collapsed": true
   },
   "outputs": [],
   "source": [
    "import System.TimeIt\n",
    "import System.Random"
   ]
  },
  {
   "cell_type": "code",
   "execution_count": 6,
   "metadata": {
    "collapsed": true
   },
   "outputs": [],
   "source": [
    "sampleSize = 10000000\n",
    "\n",
    "testRandom = take sampleSize $ randoms (mkStdGen 0)\n",
    "testOrdered = [1..sampleSize]"
   ]
  },
  {
   "cell_type": "code",
   "execution_count": 7,
   "metadata": {
    "collapsed": false
   },
   "outputs": [
    {
     "data": {
      "text/plain": [
       "78888898"
      ]
     },
     "metadata": {},
     "output_type": "display_data"
    },
    {
     "data": {
      "text/plain": [
       "78888898\n",
       "CPU time:   8.97s"
      ]
     },
     "metadata": {},
     "output_type": "display_data"
    },
    {
     "data": {
      "text/plain": [
       "78888898\n",
       "CPU time:   6.18s"
      ]
     },
     "metadata": {},
     "output_type": "display_data"
    }
   ],
   "source": [
    "length . show $ testOrdered\n",
    "\n",
    "timeIt $ print $ length . show $ partition testOrdered (sampleSize `div` 2)\n",
    "timeIt $ print $ length . show $ partition' testOrdered (sampleSize `div` 2)"
   ]
  },
  {
   "cell_type": "markdown",
   "metadata": {},
   "source": [
    "<font color=\"red\">Observe branch prediction effects!</font>"
   ]
  },
  {
   "cell_type": "code",
   "execution_count": 8,
   "metadata": {
    "collapsed": false
   },
   "outputs": [
    {
     "data": {
      "text/plain": [
       "203793565"
      ]
     },
     "metadata": {},
     "output_type": "display_data"
    },
    {
     "data": {
      "text/plain": [
       "203793565\n",
       "CPU time:  25.49s"
      ]
     },
     "metadata": {},
     "output_type": "display_data"
    },
    {
     "data": {
      "text/plain": [
       "203793565\n",
       "CPU time:  22.87s"
      ]
     },
     "metadata": {},
     "output_type": "display_data"
    }
   ],
   "source": [
    "length . show $ testRandom\n",
    "\n",
    "timeIt $ print $ length . show $ partition testRandom 0\n",
    "timeIt $ print $ length . show $ partition' testRandom 0"
   ]
  }
 ],
 "metadata": {
  "kernelspec": {
   "display_name": "Haskell",
   "language": "haskell",
   "name": "haskell"
  },
  "language_info": {
   "codemirror_mode": "ihaskell",
   "file_extension": ".hs",
   "name": "haskell",
   "version": "7.10.2"
  }
 },
 "nbformat": 4,
 "nbformat_minor": 0
}
