{
 "cells": [
  {
   "cell_type": "markdown",
   "metadata": {},
   "source": [
    "# Minimal Tree"
   ]
  },
  {
   "cell_type": "code",
   "execution_count": 1,
   "metadata": {
    "collapsed": false
   },
   "outputs": [],
   "source": [
    "data Tree a = Empty | Node a (Tree a) (Tree a) deriving (Show)"
   ]
  },
  {
   "cell_type": "code",
   "execution_count": 2,
   "metadata": {
    "collapsed": false
   },
   "outputs": [],
   "source": [
    "split3 :: (Ord a) => [a] -> ([a], a, [a])\n",
    "split3 [x] = ([], x, [])\n",
    "split3 xs =\n",
    "    let\n",
    "        (left, middle : right) = splitAt (length xs `div` 2) xs\n",
    "    in\n",
    "        (left, middle, right)"
   ]
  },
  {
   "cell_type": "code",
   "execution_count": 3,
   "metadata": {
    "collapsed": false
   },
   "outputs": [],
   "source": [
    "minimalBST :: (Ord a) => [a] -> (Tree a)\n",
    "minimalBST [] = Empty\n",
    "minimalBST xs =\n",
    "    let\n",
    "        (left, middle, right) = split3 xs\n",
    "    in\n",
    "        Node middle (minimalBST left) (minimalBST right)"
   ]
  },
  {
   "cell_type": "code",
   "execution_count": 4,
   "metadata": {
    "collapsed": true
   },
   "outputs": [],
   "source": [
    "fromTree :: (Ord a) => (Tree a) -> [a]\n",
    "fromTree Empty = []\n",
    "fromTree (Node middle left right) =\n",
    "    (fromTree left) ++ middle : (fromTree right)    "
   ]
  },
  {
   "cell_type": "code",
   "execution_count": 5,
   "metadata": {
    "collapsed": false
   },
   "outputs": [
    {
     "data": {
      "text/plain": [
       "[1,2,3,4,5]"
      ]
     },
     "metadata": {},
     "output_type": "display_data"
    }
   ],
   "source": [
    "fromTree $ minimalBST [1, 2, 3, 4, 5]"
   ]
  },
  {
   "cell_type": "markdown",
   "metadata": {},
   "source": [
    "## Tests"
   ]
  },
  {
   "cell_type": "code",
   "execution_count": 6,
   "metadata": {
    "collapsed": true
   },
   "outputs": [],
   "source": [
    "import Test.QuickCheck"
   ]
  },
  {
   "cell_type": "code",
   "execution_count": 7,
   "metadata": {
    "collapsed": false
   },
   "outputs": [],
   "source": [
    "testRoundTrip :: [Int] -> Bool\n",
    "testRoundTrip xs =\n",
    "    fromTree (minimalBST xs) == xs"
   ]
  },
  {
   "cell_type": "code",
   "execution_count": 8,
   "metadata": {
    "collapsed": false
   },
   "outputs": [
    {
     "data": {
      "text/plain": [
       "+++ OK, passed 100 tests."
      ]
     },
     "metadata": {},
     "output_type": "display_data"
    }
   ],
   "source": [
    "quickCheck testRoundTrip"
   ]
  },
  {
   "cell_type": "code",
   "execution_count": 9,
   "metadata": {
    "collapsed": true
   },
   "outputs": [],
   "source": [
    "height :: (Ord a) => (Tree a) -> Int\n",
    "height Empty = 0\n",
    "height (Node middle left right) =\n",
    "    1 + max (height left) (height right)"
   ]
  },
  {
   "cell_type": "code",
   "execution_count": 10,
   "metadata": {
    "collapsed": false
   },
   "outputs": [],
   "source": [
    "testMinimalHeight :: [Int] -> Bool\n",
    "testMinimalHeight xs =\n",
    "    let \n",
    "        expected :: [Int] -> Int\n",
    "        expected [] = 0\n",
    "        expected xs = 1 + truncate (logBase 2 $ fromIntegral $ length xs)\n",
    "    in\n",
    "        height (minimalBST xs) == expected xs"
   ]
  },
  {
   "cell_type": "code",
   "execution_count": 11,
   "metadata": {
    "collapsed": false
   },
   "outputs": [
    {
     "data": {
      "text/plain": [
       "+++ OK, passed 100 tests."
      ]
     },
     "metadata": {},
     "output_type": "display_data"
    }
   ],
   "source": [
    "quickCheck testMinimalHeight"
   ]
  }
 ],
 "metadata": {
  "kernelspec": {
   "display_name": "Haskell",
   "language": "haskell",
   "name": "haskell"
  },
  "language_info": {
   "codemirror_mode": "ihaskell",
   "file_extension": ".hs",
   "name": "haskell",
   "version": "7.10.2"
  }
 },
 "nbformat": 4,
 "nbformat_minor": 0
}
