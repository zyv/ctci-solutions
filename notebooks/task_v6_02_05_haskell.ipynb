{
 "cells": [
  {
   "cell_type": "markdown",
   "metadata": {},
   "source": [
    "# Sum Lists"
   ]
  },
  {
   "cell_type": "code",
   "execution_count": 1,
   "metadata": {
    "collapsed": true
   },
   "outputs": [],
   "source": [
    "import Numeric.Natural"
   ]
  },
  {
   "cell_type": "code",
   "execution_count": 2,
   "metadata": {
    "collapsed": false
   },
   "outputs": [],
   "source": [
    "listToNatural :: [Natural] -> Either String Natural\n",
    "listToNatural [] = Right 0\n",
    "listToNatural [_, 0] = Left \"trailing zeros\"\n",
    "listToNatural (x:xs)\n",
    "    | x > 9 = Left \"digit outside [0..9]\"\n",
    "    | otherwise = fmap ((x +) . (10 *)) (listToNatural xs)"
   ]
  },
  {
   "cell_type": "code",
   "execution_count": 3,
   "metadata": {
    "collapsed": false
   },
   "outputs": [],
   "source": [
    "naturalToList :: Natural -> [Natural]\n",
    "naturalToList 0 = [0]\n",
    "naturalToList x = l:ist\n",
    "    where\n",
    "        l = x `mod` 10\n",
    "        x' = x `div` 10\n",
    "        ist = if x' /= 0 then naturalToList x' else []"
   ]
  },
  {
   "cell_type": "code",
   "execution_count": 4,
   "metadata": {
    "collapsed": false
   },
   "outputs": [
    {
     "data": {
      "text/plain": [
       "Right 123"
      ]
     },
     "metadata": {},
     "output_type": "display_data"
    },
    {
     "data": {
      "text/plain": [
       "[3,2,1]"
      ]
     },
     "metadata": {},
     "output_type": "display_data"
    }
   ],
   "source": [
    "listToNatural [3, 2, 1]\n",
    "naturalToList 123"
   ]
  },
  {
   "cell_type": "code",
   "execution_count": 5,
   "metadata": {
    "collapsed": true
   },
   "outputs": [],
   "source": [
    "{-# LANGUAGE ScopedTypeVariables #-}"
   ]
  },
  {
   "cell_type": "code",
   "execution_count": 6,
   "metadata": {
    "collapsed": false
   },
   "outputs": [],
   "source": [
    "addLists :: [Natural] -> [Natural] -> [Natural]\n",
    "addLists xs ys = addLists' xs ys 0\n",
    "    where\n",
    "        addLists' :: [Natural] -> [Natural] -> Natural -> [Natural]\n",
    "        addLists' [] [] 0 = []\n",
    "        addLists' [] [] carry = [carry]\n",
    "        addLists' as [] carry = addLists' as [0] carry\n",
    "        addLists' [] bs carry = addLists' bs [] carry\n",
    "        addLists' (a:as) (b:bs) carry = d' : addLists' as bs carry'\n",
    "            where\n",
    "                d = a + b + carry\n",
    "                d' = d `mod` 10\n",
    "                carry' = d `div` 10"
   ]
  },
  {
   "cell_type": "markdown",
   "metadata": {},
   "source": [
    "## Tests"
   ]
  },
  {
   "cell_type": "code",
   "execution_count": 7,
   "metadata": {
    "collapsed": true
   },
   "outputs": [],
   "source": [
    "import Test.QuickCheck"
   ]
  },
  {
   "cell_type": "code",
   "execution_count": 8,
   "metadata": {
    "collapsed": true
   },
   "outputs": [],
   "source": [
    "import Data.Either (isLeft)"
   ]
  },
  {
   "cell_type": "code",
   "execution_count": 9,
   "metadata": {
    "collapsed": false
   },
   "outputs": [],
   "source": [
    "testListToNatural :: [Natural] -> Bool\n",
    "testListToNatural [] = listToNatural [] == Right 0\n",
    "testListToNatural xs\n",
    "    | any (> 9) xs = isLeft x\n",
    "    | length xs > 1 && last xs == 0 = isLeft x\n",
    "    | otherwise = either (const False) ((xs ==) . naturalToList) x\n",
    "    where\n",
    "        x = listToNatural xs"
   ]
  },
  {
   "cell_type": "code",
   "execution_count": 10,
   "metadata": {
    "collapsed": false
   },
   "outputs": [
    {
     "data": {
      "text/plain": [
       "+++ OK, passed 100 tests."
      ]
     },
     "metadata": {},
     "output_type": "display_data"
    }
   ],
   "source": [
    "quickCheck testListToNatural"
   ]
  },
  {
   "cell_type": "code",
   "execution_count": 11,
   "metadata": {
    "collapsed": false
   },
   "outputs": [],
   "source": [
    "testNaturalToList :: Natural -> Bool\n",
    "testNaturalToList x =\n",
    "    Right x == (listToNatural . naturalToList) x"
   ]
  },
  {
   "cell_type": "code",
   "execution_count": 12,
   "metadata": {
    "collapsed": false
   },
   "outputs": [
    {
     "data": {
      "text/plain": [
       "+++ OK, passed 100 tests."
      ]
     },
     "metadata": {},
     "output_type": "display_data"
    }
   ],
   "source": [
    "quickCheck testNaturalToList"
   ]
  },
  {
   "cell_type": "code",
   "execution_count": 13,
   "metadata": {
    "collapsed": false
   },
   "outputs": [],
   "source": [
    "testAddLists :: Natural -> Natural -> Bool\n",
    "testAddLists a b =\n",
    "    listToNatural (addLists (naturalToList a) (naturalToList b)) == Right (a + b)"
   ]
  },
  {
   "cell_type": "code",
   "execution_count": 14,
   "metadata": {
    "collapsed": false
   },
   "outputs": [
    {
     "data": {
      "text/plain": [
       "True"
      ]
     },
     "metadata": {},
     "output_type": "display_data"
    }
   ],
   "source": [
    "testAddLists 95 5"
   ]
  },
  {
   "cell_type": "code",
   "execution_count": 15,
   "metadata": {
    "collapsed": false
   },
   "outputs": [
    {
     "data": {
      "text/plain": [
       "+++ OK, passed 100 tests."
      ]
     },
     "metadata": {},
     "output_type": "display_data"
    }
   ],
   "source": [
    "quickCheck testAddLists"
   ]
  }
 ],
 "metadata": {
  "kernelspec": {
   "display_name": "Haskell",
   "language": "haskell",
   "name": "haskell"
  },
  "language_info": {
   "codemirror_mode": "ihaskell",
   "file_extension": ".hs",
   "name": "haskell",
   "version": "7.10.2"
  }
 },
 "nbformat": 4,
 "nbformat_minor": 0
}
